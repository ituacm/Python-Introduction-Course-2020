{
 "cells": [
  {
   "cell_type": "markdown",
   "metadata": {},
   "source": [
    "# PYTHON'DA VERİ YAPILARI"
   ]
  },
  {
   "cell_type": "markdown",
   "metadata": {},
   "source": [
    "Python'da karşılaştığımız farklı problemlere daha etkili ve verimli çözümler üretebilmek için çeşitli veri yapıları kullanırız. Bunun nedeni, yazılan her programda verilerin depolanması, düzenlemesi gibi temel unsurların kullanılmasıdır. Bilgiler verimli bir şekilde saklandığında, kullanılmak istendiği zaman elde edilmesi çok daha kolaydır. Bu şekilde kod, ilgili veri yapısı kullanılmayan versiyonundan hızlı çalışacaktır."
   ]
  },
  {
   "cell_type": "markdown",
   "metadata": {},
   "source": [
    "İnceleyeceğimiz veri yapıları şunlardır: liste, dictionary (sözlük) ve tuple."
   ]
  },
  {
   "cell_type": "markdown",
   "metadata": {},
   "source": [
    "# Listeler"
   ]
  },
  {
   "cell_type": "markdown",
   "metadata": {},
   "source": [
    "Python'da list, yani liste, herhangi sayıda ve türde objeleri içinde bulunduran bir sandık vazifesi görür. Diğer dillerdeki listelerden en önemli farkı, bir listede birden fazla tip öğenin yanyana bulunabilmesi. Python içi bir kıyaslama yapılacak olursa da diğer veri tiplerinden (dict, set vs.) farkı, ögelerinin değiştirilebilir (mutable) olması ve sıralı olmasıdır. "
   ]
  },
  {
   "cell_type": "markdown",
   "metadata": {},
   "source": [
    "Bir liste oluşturmak için, köşeli parantezler arasında, virgüllerle ayrılmış ifadeler sıralarız;"
   ]
  },
  {
   "cell_type": "code",
   "execution_count": 5,
   "metadata": {},
   "outputs": [
    {
     "name": "stdout",
     "output_type": "stream",
     "text": [
      "<class 'list'>\n"
     ]
    }
   ],
   "source": [
    "ilk_listemiz_rakamlar = [0, 1, 2, 3, 4, 5, 6, 7, 8, 9]\n",
    "\n",
    "print(type(ilk_listemiz_rakamlar))"
   ]
  },
  {
   "cell_type": "markdown",
   "metadata": {},
   "source": [
    "Veya boş bir liste tanımlanıp içine daha sonradan elemanlar eklenebilir. Bunun iki yolu vardır;"
   ]
  },
  {
   "cell_type": "code",
   "execution_count": 42,
   "metadata": {},
   "outputs": [
    {
     "name": "stdout",
     "output_type": "stream",
     "text": [
      "<class 'list'>\n"
     ]
    }
   ],
   "source": [
    "bos_bir_liste = list()\n",
    "print(type(bos_bir_liste))"
   ]
  },
  {
   "cell_type": "markdown",
   "metadata": {},
   "source": [
    "Veya;\n"
   ]
  },
  {
   "cell_type": "code",
   "execution_count": 8,
   "metadata": {},
   "outputs": [
    {
     "name": "stdout",
     "output_type": "stream",
     "text": [
      "<class 'list'>\n",
      "[]\n"
     ]
    }
   ],
   "source": [
    "bos_ikinci_liste = []\n",
    "print(type(bos_ikinci_liste))\n",
    "print(bos_ikinci_liste)"
   ]
  },
  {
   "cell_type": "markdown",
   "metadata": {},
   "source": [
    "## append()"
   ]
  },
  {
   "cell_type": "markdown",
   "metadata": {},
   "source": [
    "Boş listelere eleman eklemek için append metodu kullanılır. Kullanımı list.append(eleman) şeklindedir."
   ]
  },
  {
   "cell_type": "code",
   "execution_count": 16,
   "metadata": {},
   "outputs": [
    {
     "name": "stdout",
     "output_type": "stream",
     "text": [
      "[]\n",
      "[1]\n"
     ]
    }
   ],
   "source": [
    "bos_bir_liste = []\n",
    "print(bos_bir_liste)\n",
    "\n",
    "bos_bir_liste.append(1)\n",
    "print(bos_bir_liste)"
   ]
  },
  {
   "cell_type": "markdown",
   "metadata": {},
   "source": [
    "Append tek seferde ancak tek eleman ekleyebilir. Ancak elemanın tipi önemli değildir."
   ]
  },
  {
   "cell_type": "code",
   "execution_count": 17,
   "metadata": {},
   "outputs": [
    {
     "name": "stdout",
     "output_type": "stream",
     "text": [
      "[]\n"
     ]
    },
    {
     "ename": "TypeError",
     "evalue": "append() takes exactly one argument (2 given)",
     "output_type": "error",
     "traceback": [
      "\u001b[1;31m---------------------------------------------------------------------------\u001b[0m",
      "\u001b[1;31mTypeError\u001b[0m                                 Traceback (most recent call last)",
      "\u001b[1;32m<ipython-input-17-4f5280b7389a>\u001b[0m in \u001b[0;36m<module>\u001b[1;34m\u001b[0m\n\u001b[0;32m      2\u001b[0m \u001b[0mprint\u001b[0m\u001b[1;33m(\u001b[0m\u001b[0mbos_bir_liste\u001b[0m\u001b[1;33m)\u001b[0m\u001b[1;33m\u001b[0m\u001b[1;33m\u001b[0m\u001b[0m\n\u001b[0;32m      3\u001b[0m \u001b[1;33m\u001b[0m\u001b[0m\n\u001b[1;32m----> 4\u001b[1;33m \u001b[0mbos_bir_liste\u001b[0m\u001b[1;33m.\u001b[0m\u001b[0mappend\u001b[0m\u001b[1;33m(\u001b[0m\u001b[1;36m1\u001b[0m\u001b[1;33m,\u001b[0m \u001b[1;36m2\u001b[0m\u001b[1;33m)\u001b[0m              \u001b[1;31m# burada iki eleman eklemeye çalışıp virgülle ayrıdık\u001b[0m\u001b[1;33m\u001b[0m\u001b[1;33m\u001b[0m\u001b[0m\n\u001b[0m\u001b[0;32m      5\u001b[0m \u001b[0mprint\u001b[0m\u001b[1;33m(\u001b[0m\u001b[0mbos_bir_liste\u001b[0m\u001b[1;33m)\u001b[0m\u001b[1;33m\u001b[0m\u001b[1;33m\u001b[0m\u001b[0m\n",
      "\u001b[1;31mTypeError\u001b[0m: append() takes exactly one argument (2 given)"
     ]
    }
   ],
   "source": [
    "bos_bir_liste = []\n",
    "print(bos_bir_liste)\n",
    "\n",
    "bos_bir_liste.append(1, 2)              # burada iki eleman eklemeye çalışıp virgülle ayrıdık\n",
    "print(bos_bir_liste)"
   ]
  },
  {
   "cell_type": "code",
   "execution_count": 18,
   "metadata": {},
   "outputs": [
    {
     "name": "stdout",
     "output_type": "stream",
     "text": [
      "[]\n",
      "[[1, 2]]\n",
      "[[1, 2], 6]\n",
      "[[1, 2], 6, 'Farklı veri tipleri tek listede bulunabilir ispatı']\n"
     ]
    }
   ],
   "source": [
    "bos_bir_liste = []\n",
    "print(bos_bir_liste)\n",
    "\n",
    "bos_bir_liste.append([1, 2])    # burada tek bir sayılar listesi ekledik\n",
    "print(bos_bir_liste)   \n",
    "\n",
    "bos_bir_liste.append(6)         # burada tek bir sayı ekledik\n",
    "print(bos_bir_liste)\n",
    "\n",
    "# tek bir string eklemeye çalışalım\n",
    "bos_bir_liste.append(\"Farklı veri tipleri tek listede bulunabilir ispatı\")         \n",
    "print(bos_bir_liste)"
   ]
  },
  {
   "cell_type": "markdown",
   "metadata": {},
   "source": [
    "Örnekte görüldüğü gibi farklı veri tiplerine sahip ögeler tek bir listede toplanabildi. Bunun önemini tuple veri tipini görünce daha iyi anlayacağız."
   ]
  },
  {
   "cell_type": "markdown",
   "metadata": {},
   "source": [
    "## Elemanlara erişmek"
   ]
  },
  {
   "cell_type": "markdown",
   "metadata": {},
   "source": [
    "Stringlerdeki len(string) metodu stringin uzunluğunu döndürdüğü gibi, list objelerinde de len(Liste) listedeki eleman sayısını döndürür. "
   ]
  },
  {
   "cell_type": "code",
   "execution_count": 41,
   "metadata": {},
   "outputs": [
    {
     "name": "stdout",
     "output_type": "stream",
     "text": [
      "4\n"
     ]
    }
   ],
   "source": [
    "listem = [\"ilk 3 rakam\", 0, 1, 2]\n",
    "\n",
    "eleman_sayisi = len(listem)\n",
    "\n",
    "print(eleman_sayisi)"
   ]
  },
  {
   "cell_type": "markdown",
   "metadata": {},
   "source": [
    "Listem[n]: n'inci sıradaki elamanı döndürür.\n",
    "Listem[n:k] ise n'inci sıradaki elemandan, k'ıncı sıradaki elemana kadar olan elemanlardan oluşan listeyi döndürür. \n",
    "Buna indexing metodu denir. **İlk elemanın sırası 0 kabul edilir**. Ve diğer elemanların da sıralaması ona göre yerleştirilir. "
   ]
  },
  {
   "cell_type": "markdown",
   "metadata": {},
   "source": [
    "![title](https://raw.githubusercontent.com/ituitis-averbek18/images/master/week4_indextable.png)"
   ]
  },
  {
   "cell_type": "code",
   "execution_count": 39,
   "metadata": {},
   "outputs": [
    {
     "name": "stdout",
     "output_type": "stream",
     "text": [
      "ilk 3 rakam\n",
      "1\n"
     ]
    }
   ],
   "source": [
    "listem = [\"ilk 3 rakam\", 0, 1, 2]\n",
    "\n",
    "print(listem[0])      # ilk elemanı çağırdık\n",
    "\n",
    "print(listem[2])      # 0 başlangıçlı sıralamyla 2. elemanı çağırdık"
   ]
  },
  {
   "cell_type": "markdown",
   "metadata": {},
   "source": [
    "Eğer listenin uzunluğundan daha büyük bir index'teki elemanı çağırmak istersek program hata verir."
   ]
  },
  {
   "cell_type": "code",
   "execution_count": 40,
   "metadata": {},
   "outputs": [
    {
     "ename": "IndexError",
     "evalue": "list index out of range",
     "output_type": "error",
     "traceback": [
      "\u001b[1;31m---------------------------------------------------------------------------\u001b[0m",
      "\u001b[1;31mIndexError\u001b[0m                                Traceback (most recent call last)",
      "\u001b[1;32m<ipython-input-40-38836dd2a82f>\u001b[0m in \u001b[0;36m<module>\u001b[1;34m\u001b[0m\n\u001b[0;32m      1\u001b[0m \u001b[0mlistem\u001b[0m \u001b[1;33m=\u001b[0m \u001b[1;33m[\u001b[0m\u001b[1;34m\"ilk 3 rakam\"\u001b[0m\u001b[1;33m,\u001b[0m \u001b[1;36m0\u001b[0m\u001b[1;33m,\u001b[0m \u001b[1;36m1\u001b[0m\u001b[1;33m,\u001b[0m \u001b[1;36m2\u001b[0m\u001b[1;33m]\u001b[0m\u001b[1;33m\u001b[0m\u001b[1;33m\u001b[0m\u001b[0m\n\u001b[0;32m      2\u001b[0m \u001b[1;33m\u001b[0m\u001b[0m\n\u001b[1;32m----> 3\u001b[1;33m \u001b[0mprint\u001b[0m\u001b[1;33m(\u001b[0m\u001b[0mlistem\u001b[0m\u001b[1;33m[\u001b[0m\u001b[1;36m5\u001b[0m\u001b[1;33m]\u001b[0m\u001b[1;33m)\u001b[0m\u001b[1;33m\u001b[0m\u001b[1;33m\u001b[0m\u001b[0m\n\u001b[0m",
      "\u001b[1;31mIndexError\u001b[0m: list index out of range"
     ]
    }
   ],
   "source": [
    "listem = [\"ilk 3 rakam\", 0, 1, 2]\n",
    "\n",
    "print(listem[5])"
   ]
  },
  {
   "cell_type": "markdown",
   "metadata": {},
   "source": [
    "Belirli bir elemanın indexini bulmak içinse list.index(eleman) metodu kullanılır;"
   ]
  },
  {
   "cell_type": "code",
   "execution_count": 30,
   "metadata": {},
   "outputs": [
    {
     "name": "stdout",
     "output_type": "stream",
     "text": [
      "3 0\n"
     ]
    }
   ],
   "source": [
    "listem = [\"ilk 3 rakam\", 0, 1, 2]\n",
    "\n",
    "ikinin_indexi = listem.index(2)\n",
    "stringin_indexi = listem.index(\"ilk 3 rakam\")\n",
    "\n",
    "print(ikinin_indexi, stringin_indexi)"
   ]
  },
  {
   "cell_type": "markdown",
   "metadata": {},
   "source": [
    "Listelerin sadece belirli indexler arasındaki eleemanları üzerinde işlem yapmak istersek listeyi bölebilir veya yalnızca o kısmı kullanabiliriz. Bunun için Listem[n, k] metodu kullanılır. Bu metodda alınan ilk eleman n'inci indexteki, son eleman ise k-1'inci indextekidir."
   ]
  },
  {
   "cell_type": "code",
   "execution_count": 29,
   "metadata": {},
   "outputs": [
    {
     "name": "stdout",
     "output_type": "stream",
     "text": [
      "[0, 1, 2, 3, 4, 5, 6]\n",
      "[1, 2, 3]\n"
     ]
    }
   ],
   "source": [
    "listem = []\n",
    "\n",
    "for i in range(7):       # 0 dan 6 ya kadar olan saayıları\n",
    "    listem.append(i)     # listeye ekliyoruz\n",
    "    \n",
    "print(listem)            \n",
    "\n",
    "print(listem[1:4])       # listenn belli bir bölümünü görüyoruz"
   ]
  },
  {
   "cell_type": "markdown",
   "metadata": {},
   "source": [
    "### Listeleri Değiştirmek"
   ]
  },
  {
   "cell_type": "markdown",
   "metadata": {},
   "source": [
    "Listede belirli bir indexteki elemanı değiştirmek için basitçe o indexe yeni eleman atamak yeterli olur;"
   ]
  },
  {
   "cell_type": "code",
   "execution_count": 38,
   "metadata": {},
   "outputs": [
    {
     "name": "stdout",
     "output_type": "stream",
     "text": [
      "Liste değişmeden önce:  ['ilk 3 rakam', 0, 1, 2]\n",
      "Liste değişim sonrası:  [3, 0, 1, 2]\n"
     ]
    }
   ],
   "source": [
    "listem = [\"ilk 3 rakam\", 0, 1, 2]\n",
    "print(\"Liste değişmeden önce: \", listem)\n",
    "\n",
    "listem[0] = 3\n",
    "print(\"Liste değişim sonrası: \", listem)"
   ]
  },
  {
   "cell_type": "markdown",
   "metadata": {},
   "source": [
    "Listede belirli bir indexteki elemanı tamamen silmek içinse list.pop(index) metodu kullanılır;\n"
   ]
  },
  {
   "cell_type": "code",
   "execution_count": 37,
   "metadata": {},
   "outputs": [
    {
     "name": "stdout",
     "output_type": "stream",
     "text": [
      "Liste değişmeden önce:  ['ilk 3 rakam', 0, 1, 2]\n",
      "Liste değişim sonrası:  [0, 1, 2]\n"
     ]
    }
   ],
   "source": [
    "listem = [\"ilk 3 rakam\", 0, 1, 2]\n",
    "print(\"Liste değişmeden önce: \", listem)\n",
    "\n",
    "listem.pop(0)\n",
    "print(\"Liste değişim sonrası: \", listem)"
   ]
  },
  {
   "cell_type": "markdown",
   "metadata": {},
   "source": [
    "## Listelerde Döngüler"
   ]
  },
  {
   "cell_type": "markdown",
   "metadata": {},
   "source": [
    "Döngülerin listelerde eleman arama veya belirli bir eleman aralığı üzerinde işlem yapma gibi çeşitli işlevleri vardır.\n",
    "For-in yapısı, liste elemanları üzerinde gezinmek için en basit yollardan biridir;"
   ]
  },
  {
   "cell_type": "code",
   "execution_count": 36,
   "metadata": {},
   "outputs": [
    {
     "name": "stdout",
     "output_type": "stream",
     "text": [
      "ilk 3 rakam\n",
      "0\n",
      "1\n",
      "2\n"
     ]
    }
   ],
   "source": [
    "listem = [\"ilk 3 rakam\", 0, 1, 2]\n",
    "\n",
    "for eleman in listem:         # sırayla listedeki tüm elemanlar üzerinde gezinir \n",
    "    print(eleman)             # ve her birini tek tek bastırır"
   ]
  },
  {
   "cell_type": "markdown",
   "metadata": {},
   "source": [
    "Eğer listede bir elemanın var olup olmadığını kontrol etmek istiyorsak, if ve in yapılarını da kullanabiliriz."
   ]
  },
  {
   "cell_type": "code",
   "execution_count": 35,
   "metadata": {},
   "outputs": [
    {
     "name": "stdout",
     "output_type": "stream",
     "text": [
      "Listemde 1 elemanı vardır!\n"
     ]
    }
   ],
   "source": [
    "listem = [\"ilk 3 rakam\", 0, 1, 2]\n",
    "aranan_eleman = 1\n",
    "\n",
    "if aranan_eleman in listem:\n",
    "    print(\"Listemde\", aranan_eleman, \"elemanı vardır!\")\n",
    "else:\n",
    "    (\"Maalesef listemde\", aranan_eleman, \"elemanı bulunmamaktadır!\")"
   ]
  },
  {
   "cell_type": "markdown",
   "metadata": {},
   "source": [
    "# Tuplelar"
   ]
  },
  {
   "cell_type": "markdown",
   "metadata": {},
   "source": [
    "Tuplelar birden fazla veri türünü bir arada bulundurabilen virgüllerle veya parantez ile gösterilen immutable(değiştirilemeyen) veri tipleridir. Listelerden farkı __immutable(değiştirilemez)__ olmalarıdır."
   ]
  },
  {
   "cell_type": "markdown",
   "metadata": {},
   "source": [
    "Tuplelar listelerin aksine parantez ile gösterilirler.\n",
    "Bir liste oluşturmak için, parantezler arasında, virgüllerle ayrılmış ifadeler sıralarız;"
   ]
  },
  {
   "cell_type": "code",
   "execution_count": 2,
   "metadata": {},
   "outputs": [
    {
     "name": "stdout",
     "output_type": "stream",
     "text": [
      "<class 'tuple'>\n"
     ]
    }
   ],
   "source": [
    "tuple1 = (\"Serra\", \"Zafer\", \"Hüseyin\")\n",
    "print(type(tuple1))"
   ]
  },
  {
   "cell_type": "markdown",
   "metadata": {},
   "source": [
    "Veya boş bir liste tanımlanabilir. Bunun iki yolu vardır;"
   ]
  },
  {
   "cell_type": "code",
   "execution_count": 3,
   "metadata": {
    "scrolled": false
   },
   "outputs": [
    {
     "name": "stdout",
     "output_type": "stream",
     "text": [
      "<class 'tuple'>\n"
     ]
    }
   ],
   "source": [
    "bos_bir_tuple = tuple()\n",
    "print(type(bos_bir_tuple))"
   ]
  },
  {
   "cell_type": "markdown",
   "metadata": {},
   "source": [
    "Veya;"
   ]
  },
  {
   "cell_type": "code",
   "execution_count": 5,
   "metadata": {},
   "outputs": [
    {
     "name": "stdout",
     "output_type": "stream",
     "text": [
      "<class 'tuple'>\n",
      "()\n"
     ]
    }
   ],
   "source": [
    "bos_ikinci_tuple = ()\n",
    "print(type(bos_ikinci_tuple))\n",
    "print(bos_ikinci_tuple)"
   ]
  },
  {
   "cell_type": "markdown",
   "metadata": {},
   "source": [
    "Tek elemanlı bir tuple tanımlanırken dikkatli olunmalıdır. Örneğin:"
   ]
  },
  {
   "cell_type": "code",
   "execution_count": 11,
   "metadata": {},
   "outputs": [
    {
     "name": "stdout",
     "output_type": "stream",
     "text": [
      "<class 'str'>\n"
     ]
    }
   ],
   "source": [
    "tek_elemanlı_tuple = (\"Eleman1\")\n",
    "\n",
    "print(type(tek_elemanlı_tuple))"
   ]
  },
  {
   "cell_type": "markdown",
   "metadata": {},
   "source": [
    "Bu durumun çözümü de elemandan sonra virgül konmasıdır:"
   ]
  },
  {
   "cell_type": "code",
   "execution_count": 13,
   "metadata": {},
   "outputs": [
    {
     "name": "stdout",
     "output_type": "stream",
     "text": [
      "<class 'tuple'>\n"
     ]
    }
   ],
   "source": [
    "tek_elemanlı_tuple = (\"Eleman1\",)\n",
    "\n",
    "print(type(tek_elemanlı_tuple))"
   ]
  },
  {
   "cell_type": "markdown",
   "metadata": {},
   "source": [
    "## Tuple Elemanlarına Erişmek"
   ]
  },
  {
   "cell_type": "markdown",
   "metadata": {},
   "source": [
    "Tuple elemanlarına erişmenin mantığı listelerdeki mantığın birebir aynısıdır."
   ]
  },
  {
   "cell_type": "code",
   "execution_count": 6,
   "metadata": {},
   "outputs": [
    {
     "name": "stdout",
     "output_type": "stream",
     "text": [
      "Mersin\n",
      "Mersin\n"
     ]
    }
   ],
   "source": [
    "sehir_listesi = [\"Adana\",\"Ankara\",\"Mersin\",\"İstanbul\"]\n",
    "print(sehir_listesi[2])\n",
    "\n",
    "sehir_tuple = (\"Adana\",\"Ankara\",\"Mersin\",\"İstanbul\")\n",
    "print(sehir_tuple[2])"
   ]
  },
  {
   "cell_type": "markdown",
   "metadata": {},
   "source": [
    "Belirli bir elemanın indexine ulaşmak için list.index(eleman) metodu kullanılır;"
   ]
  },
  {
   "cell_type": "code",
   "execution_count": 7,
   "metadata": {},
   "outputs": [
    {
     "name": "stdout",
     "output_type": "stream",
     "text": [
      "2\n"
     ]
    }
   ],
   "source": [
    "sehir_tuple = (\"Adana\",\"Ankara\",\"Mersin\",\"İstanbul\")\n",
    "print(sehir_tuple.index(\"Mersin\"))"
   ]
  },
  {
   "cell_type": "markdown",
   "metadata": {},
   "source": [
    "Fakat tuplelara sonradan eleman eklenemez ve tuplelardaki elemanlar değiştirilemez."
   ]
  },
  {
   "cell_type": "markdown",
   "metadata": {},
   "source": [
    "Ancak tuplelar silinebilirler:"
   ]
  },
  {
   "cell_type": "code",
   "execution_count": 10,
   "metadata": {},
   "outputs": [
    {
     "ename": "NameError",
     "evalue": "name 'sehir_tuple' is not defined",
     "output_type": "error",
     "traceback": [
      "\u001b[1;31m---------------------------------------------------------------------------\u001b[0m",
      "\u001b[1;31mNameError\u001b[0m                                 Traceback (most recent call last)",
      "\u001b[1;32m<ipython-input-10-5801757253ce>\u001b[0m in \u001b[0;36m<module>\u001b[1;34m\u001b[0m\n\u001b[0;32m      3\u001b[0m \u001b[1;32mdel\u001b[0m \u001b[0msehir_tuple\u001b[0m\u001b[1;33m\u001b[0m\u001b[1;33m\u001b[0m\u001b[0m\n\u001b[0;32m      4\u001b[0m \u001b[1;33m\u001b[0m\u001b[0m\n\u001b[1;32m----> 5\u001b[1;33m \u001b[0mprint\u001b[0m\u001b[1;33m(\u001b[0m\u001b[0msehir_tuple\u001b[0m\u001b[1;33m)\u001b[0m\u001b[1;33m\u001b[0m\u001b[1;33m\u001b[0m\u001b[0m\n\u001b[0m",
      "\u001b[1;31mNameError\u001b[0m: name 'sehir_tuple' is not defined"
     ]
    }
   ],
   "source": [
    "sehir_tuple = (\"Adana\",\"Ankara\",\"Mersin\",\"İstanbul\")\n",
    "\n",
    "del sehir_tuple\n",
    "\n",
    "print(sehir_tuple)"
   ]
  },
  {
   "cell_type": "markdown",
   "metadata": {},
   "source": [
    "## Tuplelarda Döngüler"
   ]
  },
  {
   "cell_type": "markdown",
   "metadata": {},
   "source": [
    "Listelerde olduğu gibi tuplelar da döngülerde kullanılabilir.  "
   ]
  },
  {
   "cell_type": "code",
   "execution_count": 14,
   "metadata": {},
   "outputs": [
    {
     "name": "stdout",
     "output_type": "stream",
     "text": [
      "ilk 3 rakam\n",
      "0\n",
      "1\n",
      "2\n"
     ]
    }
   ],
   "source": [
    "tuple1 = [\"ilk 3 rakam\", 0, 1, 2]\n",
    "\n",
    "for eleman in tuple1:         # sırayla tupledaki tüm elemanlar üzerinde gezinir \n",
    "    print(eleman)             # ve her birini tek tek bastırır"
   ]
  },
  {
   "cell_type": "markdown",
   "metadata": {},
   "source": [
    "Eğer listede bir elemanın var olup olmadığını kontrol etmek istiyorsak, if ve in yapılarını da kullanabiliriz."
   ]
  },
  {
   "cell_type": "code",
   "execution_count": 15,
   "metadata": {},
   "outputs": [
    {
     "name": "stdout",
     "output_type": "stream",
     "text": [
      "Tupleda 1 elemanı vardır!\n"
     ]
    }
   ],
   "source": [
    "tuple1 = [\"ilk 3 rakam\", 0, 1, 2]\n",
    "aranan_eleman = 1\n",
    "\n",
    "if aranan_eleman in tuple1:\n",
    "    print(\"Tupleda\", aranan_eleman, \"elemanı vardır!\")\n",
    "else:\n",
    "    (\"Maalesef tupleda\", aranan_eleman, \"elemanı bulunmamaktadır!\")"
   ]
  },
  {
   "cell_type": "markdown",
   "metadata": {},
   "source": [
    "# Sözlükler"
   ]
  },
  {
   "cell_type": "markdown",
   "metadata": {},
   "source": [
    "Sözlükler (dictionary) Python dilinin son derece işe yarar veri tiplerinden bir tanesidir. Sözlükler, şimdiye kadar gördüğümüz tüm veritiplerinden yapısı gereği farklıdır. Sözlüğün içindeki her bir eleman listelerin aksine indeks ile değil **anahtar (key) ve değer (value) çiftleri** olarak tutulur bu açıdan gerçek hayattaki sözlüklere benzerler. \n",
    "\n",
    "Basit bir sözlük örneği:"
   ]
  },
  {
   "cell_type": "code",
   "execution_count": 2,
   "metadata": {
    "scrolled": true
   },
   "outputs": [
    {
     "name": "stdout",
     "output_type": "stream",
     "text": [
      "{'computer': 'bilgisayar', 'technical': 'teknik', 'university': 'üniversite'}\n"
     ]
    }
   ],
   "source": [
    "dictionary = {\"computer\": \"bilgisayar\",\n",
    "              \n",
    "           \"technical\": \"teknik\", # \"technical\" anahtar, \"teknik\" değer.\n",
    "              \n",
    "           \"university\": \"üniversite\"}\n",
    "  \n",
    "print(dictionary)"
   ]
  },
  {
   "cell_type": "markdown",
   "metadata": {},
   "source": [
    "##### Sözlük Değerlerine Erişmek"
   ]
  },
  {
   "cell_type": "markdown",
   "metadata": {},
   "source": [
    "Sözlüklerde bir *değeri* elde etmek için *anahtarları* kullanacağız:\n"
   ]
  },
  {
   "cell_type": "code",
   "execution_count": 13,
   "metadata": {},
   "outputs": [
    {
     "name": "stdout",
     "output_type": "stream",
     "text": [
      "1\n",
      "3\n"
     ]
    }
   ],
   "source": [
    "dictionary = {\"sıfır\":0,\n",
    "           \"bir\":1,\n",
    "           \"iki\":2,\n",
    "           \"üç\":3}\n",
    "\n",
    "print(dictionary[\"bir\"]) #\"bir\" anahtarına karşılık gelen değer yazdırılır.\n",
    "\n",
    "print(dictionary[\"üç\"]) #\"üç\" anahtarına karşılık gelen değer yazdırılır."
   ]
  },
  {
   "cell_type": "markdown",
   "metadata": {},
   "source": [
    "Sözlükte **olmayan bir anahtarın** değerine erişmeye çalıştığımızda ise **KeyError** alırız."
   ]
  },
  {
   "cell_type": "code",
   "execution_count": 19,
   "metadata": {},
   "outputs": [
    {
     "ename": "KeyError",
     "evalue": "'dokuz'",
     "output_type": "error",
     "traceback": [
      "\u001b[1;31m---------------------------------------------------------------------------\u001b[0m",
      "\u001b[1;31mKeyError\u001b[0m                                  Traceback (most recent call last)",
      "\u001b[1;32m<ipython-input-19-5022e31974b3>\u001b[0m in \u001b[0;36m<module>\u001b[1;34m\u001b[0m\n\u001b[1;32m----> 1\u001b[1;33m \u001b[0mprint\u001b[0m\u001b[1;33m(\u001b[0m\u001b[0mdictionary\u001b[0m\u001b[1;33m[\u001b[0m\u001b[1;34m\"dokuz\"\u001b[0m\u001b[1;33m]\u001b[0m\u001b[1;33m)\u001b[0m\u001b[1;33m\u001b[0m\u001b[1;33m\u001b[0m\u001b[0m\n\u001b[0m",
      "\u001b[1;31mKeyError\u001b[0m: 'dokuz'"
     ]
    }
   ],
   "source": [
    "print(dictionary[\"dokuz\"])"
   ]
  },
  {
   "cell_type": "markdown",
   "metadata": {},
   "source": [
    "##### Boş bir sözlük oluşturmak"
   ]
  },
  {
   "cell_type": "code",
   "execution_count": 33,
   "metadata": {},
   "outputs": [
    {
     "data": {
      "text/plain": [
       "dict"
      ]
     },
     "execution_count": 33,
     "metadata": {},
     "output_type": "execute_result"
    }
   ],
   "source": [
    "dictionary= dict()\n",
    "type(dictionary)"
   ]
  },
  {
   "cell_type": "markdown",
   "metadata": {},
   "source": [
    "###### Sözlüğe Değer Eklemek"
   ]
  },
  {
   "cell_type": "code",
   "execution_count": 20,
   "metadata": {},
   "outputs": [
    {
     "name": "stdout",
     "output_type": "stream",
     "text": [
      "{'bir': 1, 'iki': 2, 'üç': 3, 'dört': 4}\n"
     ]
    }
   ],
   "source": [
    "dictionary = {\"bir\":1,\n",
    "              \"iki\":2,\n",
    "              \"üç\":3}\n",
    " \n",
    "dictionary[\"dört\"] = 4 \n",
    " \n",
    "print(dictionary)"
   ]
  },
  {
   "cell_type": "markdown",
   "metadata": {},
   "source": [
    "### İç İçe Sözlükler"
   ]
  },
  {
   "cell_type": "markdown",
   "metadata": {},
   "source": [
    "Tıpkı listeler gibi sözlükler de iç içe oluşturulabilir."
   ]
  },
  {
   "cell_type": "code",
   "execution_count": 25,
   "metadata": {},
   "outputs": [
    {
     "name": "stdout",
     "output_type": "stream",
     "text": [
      "yaz\n",
      "kış\n"
     ]
    }
   ],
   "source": [
    "dictionary = {\"sebzeler\":{\"patates\":\"yaz\",\"karnabahar\": \"kış\"},\n",
    "     \"meyveler\":{\"kiraz\":\"yaz\",\"portakal\":\"kış\"}}\n",
    "              \n",
    "print(dictionary[\"sebzeler\"][\"patates\"])\n",
    "              \n",
    "print(dictionary[\"meyveler\"][\"portakal\"])            "
   ]
  },
  {
   "cell_type": "markdown",
   "metadata": {},
   "source": [
    "### Temel Sözlük Metodları"
   ]
  },
  {
   "cell_type": "markdown",
   "metadata": {},
   "source": [
    "1- **values()** metodu sözlüğün değerlerini bir *liste* olarak döner."
   ]
  },
  {
   "cell_type": "code",
   "execution_count": 28,
   "metadata": {},
   "outputs": [
    {
     "data": {
      "text/plain": [
       "dict_values([0, 1, 2, 3])"
      ]
     },
     "execution_count": 28,
     "metadata": {},
     "output_type": "execute_result"
    }
   ],
   "source": [
    "dictionary = {\"sıfır\":0,\n",
    "           \"bir\":1,\n",
    "           \"iki\":2,\n",
    "           \"üç\":3}\n",
    "\n",
    "dictionary.values()"
   ]
  },
  {
   "cell_type": "markdown",
   "metadata": {},
   "source": [
    "2- **keys()** metodu sözlüğün anahtarlarını bir *liste* olarak döner."
   ]
  },
  {
   "cell_type": "code",
   "execution_count": 29,
   "metadata": {},
   "outputs": [
    {
     "data": {
      "text/plain": [
       "dict_keys(['sıfır', 'bir', 'iki', 'üç'])"
      ]
     },
     "execution_count": 29,
     "metadata": {},
     "output_type": "execute_result"
    }
   ],
   "source": [
    "dictionary.keys()"
   ]
  },
  {
   "cell_type": "markdown",
   "metadata": {},
   "source": [
    "3- **items()** metodu sözlüğün tüm anahtar-değer çiftlerini bir *liste* içindeki *demetler* olarak döner."
   ]
  },
  {
   "cell_type": "code",
   "execution_count": 30,
   "metadata": {},
   "outputs": [
    {
     "data": {
      "text/plain": [
       "dict_items([('sıfır', 0), ('bir', 1), ('iki', 2), ('üç', 3)])"
      ]
     },
     "execution_count": 30,
     "metadata": {},
     "output_type": "execute_result"
    }
   ],
   "source": [
    "dictionary.items()"
   ]
  },
  {
   "cell_type": "code",
   "execution_count": null,
   "metadata": {},
   "outputs": [],
   "source": []
  }
 ],
 "metadata": {
  "kernelspec": {
   "display_name": "Python 3",
   "language": "python",
   "name": "python3"
  },
  "language_info": {
   "codemirror_mode": {
    "name": "ipython",
    "version": 3
   },
   "file_extension": ".py",
   "mimetype": "text/x-python",
   "name": "python",
   "nbconvert_exporter": "python",
   "pygments_lexer": "ipython3",
   "version": "3.8.6"
  }
 },
 "nbformat": 4,
 "nbformat_minor": 4
}
