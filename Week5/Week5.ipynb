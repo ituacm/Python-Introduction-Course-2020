{
 "cells": [
  {
   "cell_type": "markdown",
   "metadata": {},
   "source": [
    "# FONKSİYONLAR"
   ]
  },
  {
   "cell_type": "markdown",
   "metadata": {},
   "source": [
    "### Fonksiyon Nedir?"
   ]
  },
  {
   "cell_type": "markdown",
   "metadata": {},
   "source": [
    "Fonksiyonlar kısaca belirli bir işlevi yapmak için oluşturulan komutlar kümesidir. Örneğin print() fonksiyonu ekrana çıktı vermemizi sağlayan işlevi yapmak için belirli komutlar bulundurur."
   ]
  },
  {
   "cell_type": "markdown",
   "metadata": {},
   "source": [
    "### Neden Fonksiyon?"
   ]
  },
  {
   "cell_type": "markdown",
   "metadata": {},
   "source": [
    "Karmaşık programlar yazılmaya başlandığında ve kod uzunluğu arttığında aynı işlemleri tekrar tekrar yapmak gereken yerler olabilir ve bunları her seferinde tek tek yazmak kodun okunabilirliğini azaltır. \n",
    "\n",
    "Bu gibi tekrar tekrar yapılması istenen işlemler için her seferinde kod yazmak yerine bir defa fonksiyon oluşturulur ve aynı işlem her yapılmak istendiğinde çağırıp kullanılır. Böylece kod karmaşasından kurtulunur."
   ]
  },
  {
   "cell_type": "markdown",
   "metadata": {},
   "source": [
    "Fonksiyonlar sayesinde:\n",
    "\n",
    "- Aynı kodu defalarca yazmak gerekmez. Dolayısıyla bellek (RAM) gereksiz yere dolmaz.\n",
    "- Programcıların aynı proje üzerinde beraber çalışmasını kolaylaştırır.\n",
    "- İşleri küçük birimlere bölmek, programlama hatalarını bulmayı (debugging) kolaylaştırır.\n",
    "- Programlama dilinin çekirdek tanımında bulunmayan üst seviye işlemleri tek komutla yapmayı sağlar.\n"
   ]
  },
  {
   "cell_type": "markdown",
   "metadata": {},
   "source": [
    "## Fonksiyonlara Giriş"
   ]
  },
  {
   "cell_type": "markdown",
   "metadata": {},
   "source": [
    "Fonksiyonlar, matematikteki f(x) = y ifadelerindeki mantıkla düşünülebilir. Tek farkı girdi veya çıktı sayısının tek olmak zorunda olmayışıdır. Yani f(x, y, z, t) = a, b şeklinde fonksiyonlar da Python'da yazılabilir."
   ]
  },
  {
   "cell_type": "markdown",
   "metadata": {},
   "source": [
    "Python'da bir fonksiyon tanımlanırken **def** ifadesi kullanılır. İngilizcedeki \"define\" kelimesinden gelmektedir. Bir fonksiyonun tanım satırı syntax'i şu şekildedir:\n",
    "\n",
    "<font color=blue>**def**</font> <font color=red>fonksiyonun_ismi</font>(<font color=green>fonksiyonun girdi parametreleri </font>(virgülle ayrılmış)):\n",
    "\n",
    "    ...\n",
    "    ...   fonksiyonun işlemleri...\n",
    "    ...\n",
    "    \n",
    "   <font color=blue>**return**</font> çıktı_parametre"
   ]
  },
  {
   "cell_type": "markdown",
   "metadata": {},
   "source": [
    "Örneğin;"
   ]
  },
  {
   "cell_type": "code",
   "execution_count": 3,
   "metadata": {},
   "outputs": [],
   "source": [
    "def toplam(sayi_bir, sayi_iki):\n",
    "                                            # fonksiyonun içinde bir değişken oluşturduk\n",
    "    toplamlari = sayi_bir + sayi_iki        # aldığımız girdileri kullandık \n",
    "                                           \n",
    "    return toplamlari                       # çıktıyı döndürdük"
   ]
  },
  {
   "cell_type": "markdown",
   "metadata": {},
   "source": [
    "Yukarıdaki kod satırı tek başına hiçbir iş yapmamaktadır. Çünkü bir fonksiyonun çalışması için program içinde çağırılması gerekir."
   ]
  },
  {
   "cell_type": "code",
   "execution_count": 5,
   "metadata": {},
   "outputs": [
    {
     "name": "stdout",
     "output_type": "stream",
     "text": [
      "8\n"
     ]
    }
   ],
   "source": [
    "def toplam(sayi_bir, sayi_iki):              # bu\n",
    "                                             # kısım \n",
    "    toplamlari = sayi_bir + sayi_iki         # fonksiyon \n",
    "                                             # bloğudur\n",
    "    return toplamlari                        # \n",
    "\n",
    "a, b = 5, 3       # burada iki integer tanımladık\n",
    "c = toplam(a, b)  # burada fonksiyonu çağırıp girdi olarak a ve b yi kullandık,\n",
    "                  # fonksiyon çıktı olarak tek sayı return'leyeceğinden \n",
    "                  # tek bir sayıya fonksiyonun sonucunu atadık\n",
    "\n",
    "print(c)"
   ]
  },
  {
   "cell_type": "markdown",
   "metadata": {},
   "source": [
    "Fonksiyonun çıktısını hiçbir değişkende tutmadan doğrudan da bastırabilirdik:"
   ]
  },
  {
   "cell_type": "code",
   "execution_count": 6,
   "metadata": {},
   "outputs": [
    {
     "name": "stdout",
     "output_type": "stream",
     "text": [
      "8\n"
     ]
    }
   ],
   "source": [
    "def toplam(sayi_bir, sayi_iki):             \n",
    "    toplamlari = sayi_bir + sayi_iki          \n",
    "    return toplamlari                         \n",
    "\n",
    "a, b = 5, 3       \n",
    "print(toplam(a, b))"
   ]
  },
  {
   "cell_type": "markdown",
   "metadata": {},
   "source": [
    "Çoklu çıktılarda çıktı sayısıyla çıktıyı atama yaptığımız değişken sayısı eşit olmazsa fonksiyon tuple döndürür."
   ]
  },
  {
   "cell_type": "code",
   "execution_count": 13,
   "metadata": {},
   "outputs": [
    {
     "name": "stdout",
     "output_type": "stream",
     "text": [
      "(12, -2)\n"
     ]
    }
   ],
   "source": [
    "def toplamfark(sayi_bir, sayi_iki):             \n",
    "    toplamlari = sayi_bir + sayi_iki\n",
    "    farklari = sayi_bir - sayi_iki\n",
    "    return toplamlari, farklari\n",
    "\n",
    "a, b = 5, 7\n",
    "\n",
    "c = toplamfark(a, b)\n",
    "print(c)"
   ]
  },
  {
   "cell_type": "markdown",
   "metadata": {},
   "source": [
    "Ancak çıktı sayısı artınca atanan değer sayısının birden fazla olması hataya yol açar."
   ]
  },
  {
   "cell_type": "code",
   "execution_count": 17,
   "metadata": {},
   "outputs": [
    {
     "name": "stdout",
     "output_type": "stream",
     "text": [
      "(12, -2, 35)\n"
     ]
    },
    {
     "ename": "ValueError",
     "evalue": "too many values to unpack (expected 2)",
     "output_type": "error",
     "traceback": [
      "\u001b[1;31m---------------------------------------------------------------------------\u001b[0m",
      "\u001b[1;31mValueError\u001b[0m                                Traceback (most recent call last)",
      "\u001b[1;32m<ipython-input-17-64fcd7942964>\u001b[0m in \u001b[0;36m<module>\u001b[1;34m\u001b[0m\n\u001b[0;32m     13\u001b[0m \u001b[0mprint\u001b[0m\u001b[1;33m(\u001b[0m\u001b[0mc\u001b[0m\u001b[1;33m)\u001b[0m\u001b[1;33m\u001b[0m\u001b[1;33m\u001b[0m\u001b[0m\n\u001b[0;32m     14\u001b[0m \u001b[1;33m\u001b[0m\u001b[0m\n\u001b[1;32m---> 15\u001b[1;33m \u001b[0mc\u001b[0m\u001b[1;33m,\u001b[0m \u001b[0md\u001b[0m \u001b[1;33m=\u001b[0m \u001b[0mtoplamfarkcarpim\u001b[0m\u001b[1;33m(\u001b[0m\u001b[0ma\u001b[0m\u001b[1;33m,\u001b[0m \u001b[0mb\u001b[0m\u001b[1;33m)\u001b[0m  \u001b[1;31m# bu satır hata verir\u001b[0m\u001b[1;33m\u001b[0m\u001b[1;33m\u001b[0m\u001b[0m\n\u001b[0m",
      "\u001b[1;31mValueError\u001b[0m: too many values to unpack (expected 2)"
     ]
    }
   ],
   "source": [
    "def toplamfarkcarpim(sayi_bir, sayi_iki):   \n",
    "    \n",
    "    toplamlari = sayi_bir + sayi_iki\n",
    "    farklari = sayi_bir - sayi_iki\n",
    "    carpimlari = sayi_bir * sayi_iki\n",
    "    \n",
    "    return toplamlari, farklari, carpimlari\n",
    "\n",
    "a, b = 5, 7\n",
    "\n",
    "c = toplamfarkcarpim(a, b)      # bu satır hata vermez \n",
    "                                # çünkü tek tuple değeri tamamen c ye atanır\n",
    "print(c)\n",
    "\n",
    "c, d = toplamfarkcarpim(a, b)  # bu satır hata verir"
   ]
  },
  {
   "cell_type": "markdown",
   "metadata": {},
   "source": [
    "Hiçbir değer döndürmeyen fonksiyonlar da olabilir:"
   ]
  },
  {
   "cell_type": "code",
   "execution_count": 19,
   "metadata": {},
   "outputs": [
    {
     "name": "stdout",
     "output_type": "stream",
     "text": [
      "[2, 3, 4]\n"
     ]
    }
   ],
   "source": [
    "def listeyi_arttirma(liste):\n",
    "    for i in range(len(liste)): # listenin her elemanını indexing methoduyla dolaşır\n",
    "        liste[i] += 1           # ve bir arttırır\n",
    "           \n",
    "liste = [1, 2, 3]\n",
    "\n",
    "listeyi_arttirma(liste)     # fonksiyon hiçbir çıktı vermeyeceğinden atama yapılmaz\n",
    "\n",
    "print(liste)"
   ]
  },
  {
   "cell_type": "markdown",
   "metadata": {},
   "source": [
    "Fonksiyonlar girdi almayabilirler:"
   ]
  },
  {
   "cell_type": "code",
   "execution_count": 4,
   "metadata": {},
   "outputs": [
    {
     "name": "stdout",
     "output_type": "stream",
     "text": [
      "Hoşgeldiniz!\n",
      "\n",
      "Bakiyenizi öğrenmek için 1'i, yükleme yapmak için 2'yi, para çekmek için 3'ü, \n",
      "programdan çıkmak için 4'ü tuşlayınız.\n",
      "\n",
      "1\n",
      "Bakiyeniz: 500\n",
      "\n",
      "Bakiyenizi öğrenmek için 1'i, yükleme yapmak için 2'yi, para çekmek için 3'ü, \n",
      "programdan çıkmak için 4'ü tuşlayınız.\n",
      "\n",
      "2\n",
      "Lütfen yüklenecek miktarı giriniz: 300\n",
      "İşlem başarıyla gerçekleştirildi!\n",
      "\n",
      "Bakiyenizi öğrenmek için 1'i, yükleme yapmak için 2'yi, para çekmek için 3'ü, \n",
      "programdan çıkmak için 4'ü tuşlayınız.\n",
      "\n",
      "1\n",
      "Bakiyeniz: 800\n",
      "\n",
      "Bakiyenizi öğrenmek için 1'i, yükleme yapmak için 2'yi, para çekmek için 3'ü, \n",
      "programdan çıkmak için 4'ü tuşlayınız.\n",
      "\n",
      "3\n",
      "Lütfen çekmek istediğiniz miktarı giriniz: 900\n",
      "Lütfen bakiyenizi aşmayınız!\n",
      "Lütfen çekmek istediğiniz miktarı giriniz: 700\n",
      "İşlem başarıyla gerçekleştirildi!\n",
      "\n",
      "Bakiyenizi öğrenmek için 1'i, yükleme yapmak için 2'yi, para çekmek için 3'ü, \n",
      "programdan çıkmak için 4'ü tuşlayınız.\n",
      "\n",
      "1\n",
      "Bakiyeniz: 100\n",
      "\n",
      "Bakiyenizi öğrenmek için 1'i, yükleme yapmak için 2'yi, para çekmek için 3'ü, \n",
      "programdan çıkmak için 4'ü tuşlayınız.\n",
      "\n",
      "4\n",
      "Teşekkürler, iyi günler.\n"
     ]
    }
   ],
   "source": [
    "def talimatlar():                                # talimatları bastıran fonksiyon\n",
    "    print()\n",
    "    print(\"Bakiyenizi öğrenmek için 1'i, yükleme yapmak için 2'yi, para çekmek için 3'ü, \")\n",
    "    print(\"programdan çıkmak için 4'ü tuşlayınız.\")\n",
    "    print()\n",
    "\n",
    "def basarili():\n",
    "    print(\"İşlem başarıyla gerçekleştirildi!\")\n",
    "\n",
    "print(\"Hoşgeldiniz!\")    \n",
    "talimatlar()\n",
    "\n",
    "istek = int(input())\n",
    "bakiye = 500\n",
    "\n",
    "while (istek != 4):\n",
    "\n",
    "    if istek == 1:                    # talimatlardan 1 numara bakiyeyi bastırmak içindi\n",
    "        print(\"Bakiyeniz:\", bakiye)\n",
    "\n",
    "    elif istek == 2:                  # talimatlardan 2 numara bakiyeye ekleme yapmak içindi\n",
    "        \n",
    "        ekleme = int(input(\"Lütfen yüklenecek miktarı giriniz: \"))\n",
    "        \n",
    "        bakiye += ekleme\n",
    "        \n",
    "        basarili()\n",
    "\n",
    "    elif istek == 3:                  # talimatlardan 3 numara bakiyeyi eksiltmek içindi\n",
    "        \n",
    "        cekme = int(input(\"Lütfen çekmek istediğiniz miktarı giriniz: \"))\n",
    "        \n",
    "        while cekme > bakiye:        # bu döngüyle bakiyeden yüksek miktar girilmemesini sağlıyoruz\n",
    "            \n",
    "            print(\"Lütfen bakiyenizi aşmayınız!\")\n",
    "            \n",
    "            cekme = int(input(\"Lütfen çekmek istediğiniz miktarı giriniz: \"))\n",
    "            \n",
    "        # eğer yukarıdaki while döngüsünden çıkabilirse çekilmek istenen miktar bakiyeyi aşmıyordur\n",
    "        bakiye -= cekme \n",
    "        \n",
    "        basarili()\n",
    "        \n",
    "    else:\n",
    "        print(\"Lütfen talimatlar doğrultusunda bir sayı giriniz!\")\n",
    "\n",
    "    talimatlar()\n",
    "    istek = int(input())\n",
    "    \n",
    "print(\"Teşekkürler, iyi günler.\")"
   ]
  },
  {
   "cell_type": "markdown",
   "metadata": {},
   "source": [
    "### Recursion Kavramı"
   ]
  },
  {
   "cell_type": "markdown",
   "metadata": {},
   "source": [
    "Bir fonksiyon kendi kendini çağırıyorsa o fonksiyona **recursive** denir. Ancak fonksiyonun şartları ve bitiş sınırları iyi belirlenmelidir yoksa fonksiyon sonsuz döngüye girebilir."
   ]
  },
  {
   "cell_type": "code",
   "execution_count": 6,
   "metadata": {},
   "outputs": [
    {
     "name": "stdout",
     "output_type": "stream",
     "text": [
      "8\n"
     ]
    }
   ],
   "source": [
    "def fibonacci(a):\n",
    "    \n",
    "    if a == 1 or a == 0:      # fibonacci dizisinin 0 ıncı ve 1 inci indexinde 1 elemanı vardır\n",
    "        return 1\n",
    "    \n",
    "    return fibonacci(a - 1) + fibonacci(a - 2)\n",
    "\n",
    "print(fibonacci(5))           # 1 1 2 3 5 8"
   ]
  },
  {
   "cell_type": "markdown",
   "metadata": {},
   "source": [
    "### Kütüphane Fonksiyonları"
   ]
  },
  {
   "cell_type": "markdown",
   "metadata": {},
   "source": [
    "Kütüphane, belli bir işlev için hazırlanan fonksiyonlar topluluğudur. Bir kütüphane matematik fonksiyonlarını toplarken başka bir kütüphane kelime işleme, bir başkası ağ iletişimi, bir başkası oyun modülleri barındırıyor olabilir. Kütüphaneler bir dilin resmi tanımına dahil olabilir (bu durumda onlara standart kütüphane denir) veya üçüncü kişiler tarafından hazırlanmış olabilir."
   ]
  },
  {
   "cell_type": "markdown",
   "metadata": {},
   "source": [
    "Örneğin: Python'da math kütüphanesi.\n",
    "Kütüphaneyi kullanmak için import math ifadesi kullanılır. Daha sonrasında math ile birlikte gelen fonksiyonlar math.fonksiyon_adi(girdiler) şeklinde kullanılabilir."
   ]
  },
  {
   "cell_type": "code",
   "execution_count": 1,
   "metadata": {},
   "outputs": [
    {
     "name": "stdout",
     "output_type": "stream",
     "text": [
      "1.7320508075688772\n",
      "1.0\n"
     ]
    }
   ],
   "source": [
    "import math\n",
    "print(math.sqrt(3)) \n",
    "print(math.sin(math.pi / 2))"
   ]
  },
  {
   "cell_type": "markdown",
   "metadata": {},
   "source": [
    "\n",
    "\n",
    "\n"
   ]
  }
 ],
 "metadata": {
  "kernelspec": {
   "display_name": "Python 3",
   "language": "python",
   "name": "python3"
  },
  "language_info": {
   "codemirror_mode": {
    "name": "ipython",
    "version": 3
   },
   "file_extension": ".py",
   "mimetype": "text/x-python",
   "name": "python",
   "nbconvert_exporter": "python",
   "pygments_lexer": "ipython3",
   "version": "3.8.5"
  }
 },
 "nbformat": 4,
 "nbformat_minor": 4
}
