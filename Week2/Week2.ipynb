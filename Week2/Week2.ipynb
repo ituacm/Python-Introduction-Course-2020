{
 "cells": [
  {
   "cell_type": "markdown",
   "metadata": {},
   "source": [
    "# Koşullu Durumlar"
   ]
  },
  {
   "cell_type": "markdown",
   "metadata": {},
   "source": [
    "Koşul ifadeleri, programlamada en çok başvurulan ifadelerden biridir. Koşul ifadelerinin programın içerisindeki fonksiyonu programın takip edeceği yola karar vermek olarak özetlenebilir. "
   ]
  },
  {
   "cell_type": "markdown",
   "metadata": {},
   "source": [
    "Bazı durumlarda programın içerisinde iki veya daha fazla değişkenin veya durumun karşılaştırılması gerekebilir. Örneğin email hesabımıza giriş yaparken e-postamızı ve şifremizi gireriz. Şifre girişi yapıldıktan sonra girilen şifre sistemde kayıtlı olan şifreyle karşılaştırılır ve iki şifrenin eşleşmesi durumunda e-posta hesabına erişim sağlanır fakat şifrelerin eşleşmediği durumda hata mesajıyla karşılaşırız. Kendisine verilen ifadelerin doğruluğunu kontrol edip gerçek hayattan örnek vermek gerekirse program içerisinde yol ayrımı yaratan programlama yapılarına __koşullu durumlar__ denir."
   ]
  },
  {
   "cell_type": "markdown",
   "metadata": {},
   "source": [
    "Python dilinde ise koşullu durum yapısını kurmak için __if-else-elif__ anahtar kelimeleri kullanılır."
   ]
  },
  {
   "cell_type": "markdown",
   "metadata": {},
   "source": [
    "Bu ifadeleri görmeden önce karşılaştırma operatörlerini aşağıdaki tablo üzerinde inceleyelim: "
   ]
  },
  {
   "cell_type": "markdown",
   "metadata": {},
   "source": [
    "<center><img src = \"https://raw.githubusercontent.com/ituitis-averbek18/images/master/week2_table1.png\", width = 550, height = 600></center>"
   ]
  },
  {
   "cell_type": "markdown",
   "metadata": {},
   "source": [
    "# if Bloğu"
   ]
  },
  {
   "cell_type": "code",
   "execution_count": null,
   "metadata": {},
   "outputs": [],
   "source": [
    "n = int(input(\"Bir sayı giriniz: \"))\n",
    "\n",
    "if n < 10:                                #Eğer sayı 10'dan küçükse,\n",
    "    print(\"n 10'dan küçüktür.\")"
   ]
  },
  {
   "cell_type": "markdown",
   "metadata": {},
   "source": [
    "<center> <img src = \"https://raw.githubusercontent.com/ituitis-averbek18/images/master/flow1_1.png\", width = 750, height = 1000> </center>\n",
    "\n",
    "<strong><center>If kullanım algoritması</center></strong>"
   ]
  },
  {
   "cell_type": "markdown",
   "metadata": {},
   "source": [
    "Yukarıdaki şemada da görüldüğü üzere if'in şartı olarak yazılan \"n<10\" ifadesinin sağlanması durumunda __if__ bloğunun içindeki kod satırı çalıştırılır. Söz konusu koşulun sağlanmadığı durumda ise program __if__ bloğunu görmezden gelir."
   ]
  },
  {
   "cell_type": "markdown",
   "metadata": {},
   "source": [
    "###  Örn:"
   ]
  },
  {
   "cell_type": "code",
   "execution_count": null,
   "metadata": {},
   "outputs": [],
   "source": [
    "yaş = int(input(\"Yaşınızı giriniz: \")) # Kullanıcı burada yaşını girer.\n",
    "\n",
    "if yaş < 18:                                           # Program yaşın 18 den küçük olup olmadığını kontrol eder.\n",
    "    print(\"Yaşınız 18'den küçük. Ehliyet alamazsınız\") # yaş 18'den küçükse bu çıktıyı verir."
   ]
  },
  {
   "cell_type": "markdown",
   "metadata": {},
   "source": [
    "Yukarıdaki örneğe baktığımızda __if__ ifadesinin koşulunun yaş değişkenin 18'den küçük olması olduğunu görüyoruz. Yaş değişkeninin değerinin 18'den küçük olması durumunda program ekrana \"Yaşınız 18'den küçük. Ehliyet alamazsınız\" çıktısını verir. Fakat 18 veya 18'den büyük bir input girildiği takdirde hiçbir işlem gerçekleşmez."
   ]
  },
  {
   "cell_type": "markdown",
   "metadata": {},
   "source": [
    "İkinci bir __if__ bloğu yazarak bu durumda da bir işlem gerçekleşmesi sağlanabilir:"
   ]
  },
  {
   "cell_type": "code",
   "execution_count": null,
   "metadata": {},
   "outputs": [],
   "source": [
    "yaş = int(input(\"Yaşınızı giriniz: \")) # Kullanıcı burada yaşını girer.\n",
    "\n",
    "if yaş < 18: # Program yaşın 18 den küçük olup olmadığını kontrol eder.\n",
    "    print(\"Yaşınız 18'den küçük. Ehliyet alamazsınız\") # yaş 18'den küçükse bu çıktıyı verir.\n",
    "\n",
    "if yaş >= 18:\n",
    "    print(\"Yaşınız uygun. Ehliyet alabilirsiniz.\")"
   ]
  },
  {
   "cell_type": "markdown",
   "metadata": {},
   "source": [
    "Fakat burda iki if bloğunun içindeki şart da doğru olsaydı ikisinin içindeki işlemler de gerçekleştirilirdi.\n",
    "Örneğin:"
   ]
  },
  {
   "cell_type": "code",
   "execution_count": null,
   "metadata": {},
   "outputs": [],
   "source": [
    "n = 5\n",
    "\n",
    "if n < 10:\n",
    "    print(\"n 10'dan küçüktür\")\n",
    "\n",
    "if n < 15:\n",
    "    print(\"n 15'ten küçüktür\")"
   ]
  },
  {
   "cell_type": "markdown",
   "metadata": {},
   "source": [
    "# else Bloğu"
   ]
  },
  {
   "cell_type": "code",
   "execution_count": null,
   "metadata": {},
   "outputs": [],
   "source": [
    "n = int(input(\"Bir sayı giriniz: \"))\n",
    "\n",
    "if n < 10:\n",
    "    print(\"n 10'dan küçüktür\")\n",
    "else:\n",
    "    print(\"n 10'dan küçük değildir\")"
   ]
  },
  {
   "cell_type": "markdown",
   "metadata": {},
   "source": [
    "<center><img src = https://raw.githubusercontent.com/ituitis-averbek18/images/master/flow2_1.png\"\", width = 750, height = 600></center>\n",
    "\n",
    "<strong><center>else kullanım algoritması</center></strong>"
   ]
  },
  {
   "cell_type": "markdown",
   "metadata": {},
   "source": [
    "Yukarıdaki şemada da görüldüğü üzere şartın sağlanması durumunda __if__ bloğunun içinde bulunan __print(\"n 10'dan küçüktür\")__ satırı çalıştırılır. Eğer şart sağlanmıyorsa __else__ bloğunun içindeki __print(\"n 10'dan küçük değildir\")__ satırı çalıştırılır."
   ]
  },
  {
   "cell_type": "markdown",
   "metadata": {},
   "source": [
    "Örneğin bir parola kontrol aşamasını aşağıdaki kod üzerinde inceleyelim:"
   ]
  },
  {
   "cell_type": "code",
   "execution_count": null,
   "metadata": {},
   "outputs": [],
   "source": [
    "parola = \"123456\" # Örnek bir parola değişkeni atandı.\n",
    " \n",
    "girdi = input(\"Parolanızı giriniz: \") # Kullanıcıdan parolayı girmesi istendi.\n",
    "\n",
    "if girdi == parola: # Parolanın doğruluğu kontrol ediliyor\n",
    "    print(\"Parola doğru. Giriş gerçekleştiriliyor...\") # Parola doğruysa bu çıktı ekrana yazdırılır.\n",
    "else:\n",
    "    print(\"Parola yanlış\") # Parola doğru değilse bu çıktı ekrana yazdırılır."
   ]
  },
  {
   "cell_type": "markdown",
   "metadata": {},
   "source": [
    "Yukarıda da görüldüğü üzere **else** ifadesinin yanına herhangi bir şart ifadesi yazılmaz. "
   ]
  },
  {
   "cell_type": "markdown",
   "metadata": {},
   "source": [
    "__*Soru: else bloğunun içine yeni bir if bloğu yazılabilir mi?*__"
   ]
  },
  {
   "cell_type": "markdown",
   "metadata": {},
   "source": [
    "# elif Bloğu"
   ]
  },
  {
   "cell_type": "code",
   "execution_count": null,
   "metadata": {},
   "outputs": [],
   "source": [
    "n = int(input(\"Bir sayı giriniz: \"))\n",
    "\n",
    "if n < 10:\n",
    "    print(\"n 10'dan küçüktür.\")\n",
    "elif n < 15:\n",
    "    print(\"n 10 ile 15 arasındadır\")"
   ]
  },
  {
   "cell_type": "markdown",
   "metadata": {},
   "source": [
    "<center><img src = \"https://raw.githubusercontent.com/ituitis-averbek18/images/master/flow3_1.png\", width = 750, height = 700></center>\n",
    "<strong><center>elif kullanım algoritması</center></strong>"
   ]
  },
  {
   "cell_type": "markdown",
   "metadata": {},
   "source": [
    "Elif bloğu aşağıda olduğu gibi de yazılabilir: "
   ]
  },
  {
   "cell_type": "code",
   "execution_count": null,
   "metadata": {},
   "outputs": [],
   "source": [
    "n = 10\n",
    "\n",
    "if n < 5:\n",
    "    print(\"n 5'ten küçüktür\")\n",
    "else:\n",
    "    if n == 10:   \n",
    "        print(\"n 10'dur\")"
   ]
  },
  {
   "cell_type": "markdown",
   "metadata": {},
   "source": [
    "Fakat bu yaklaşımda sadece bir elif bloğu bu şekilde yazılabilir çünkü bir __if__ bloğuna yalnızca bir __else__ bloğu tekabül edebilir. Python programlama dilinde bu karışıklığı önleme amacıyla **elif** anahtar kelimesi kullanılmaktadır:"
   ]
  },
  {
   "cell_type": "code",
   "execution_count": null,
   "metadata": {},
   "outputs": [],
   "source": [
    "n = 10\n",
    "\n",
    "if n < 5:\n",
    "    print(\"n 5'ten küçüktür\")\n",
    "elif n == 10:\n",
    "    print(\"n 10'dur\")"
   ]
  },
  {
   "cell_type": "markdown",
   "metadata": {},
   "source": [
    "__elif__ ifadesi birden fazla olabilir:"
   ]
  },
  {
   "cell_type": "code",
   "execution_count": null,
   "metadata": {},
   "outputs": [],
   "source": [
    "n = 21\n",
    "\n",
    "if n < 5:\n",
    "    print(\"n 5'ten küçüktür\")\n",
    "elif n < 10:\n",
    "    print(\"n 5 ile 10 arasındadır\")\n",
    "elif n < 15:\n",
    "    print(\"n 10 ile 15 arasındadır\")\n",
    "elif n < 20:\n",
    "    print(\"n 15 ile 20 arasındadır\")\n",
    "elif n < 25:\n",
    "    print(\"n 20 ile 25 arasındadır\")\n",
    "elif n < 30:\n",
    "    print(\"n 25 ile 30 arasındadır\")"
   ]
  },
  {
   "cell_type": "markdown",
   "metadata": {},
   "source": [
    "Birden fazla koşulun sağlandığı bir durumu inceleyecek olursak:"
   ]
  },
  {
   "cell_type": "code",
   "execution_count": null,
   "metadata": {},
   "outputs": [],
   "source": [
    "n = 20\n",
    "\n",
    "if n > 5:\n",
    "    print(\"n 5'ten büyüktür\")\n",
    "elif n > 10:\n",
    "    print(\"n 10'dan büyüktür\")\n",
    "elif n > 15:\n",
    "    print(\"n 15'ten büyüktür\")"
   ]
  },
  {
   "cell_type": "markdown",
   "metadata": {},
   "source": [
    "__Bunun nedeni programın, şartın sağlandığı yerdeki bloğun içine girip diğer şartları kontrol etmemesidir.__"
   ]
  },
  {
   "cell_type": "markdown",
   "metadata": {},
   "source": [
    "__if-elif-else__ bloklarının hepsi birbiriyle ilişkili şekilde de kullanabilir:"
   ]
  },
  {
   "cell_type": "code",
   "execution_count": null,
   "metadata": {
    "scrolled": true
   },
   "outputs": [],
   "source": [
    "n = 16\n",
    "\n",
    "if n < 5:\n",
    "    print(\"n 5'ten küçüktür.\")\n",
    "elif n < 10:\n",
    "    print(\"n 5 ile 10  arasındadır\")\n",
    "elif n < 15:\n",
    "    print(\"n 10 ile 15 arasındadır\")\n",
    "else:\n",
    "    print(\"n 15'den küçük değildir\")"
   ]
  },
  {
   "cell_type": "markdown",
   "metadata": {},
   "source": [
    "#  Boolean Değerler ve İfadeler"
   ]
  },
  {
   "cell_type": "markdown",
   "metadata": {},
   "source": [
    "Python'da doğru ve yanlış değerleri saklamak için kullanılan veri tipine bool adı verilmektedir. Boole cebiri tüm modern bilgisayar aritmetiğinin temelidir.\n",
    "\n",
    "Sadece iki boolean değer vardır: True(doğru) ve False(yanlış). Python case sensitive (büyük-küçük harfe duyarlı) bir dil olduğundan büyük harfle başlamaları önemlidir. true ve false boolean değerler değildir."
   ]
  },
  {
   "cell_type": "code",
   "execution_count": null,
   "metadata": {},
   "outputs": [],
   "source": [
    "print(type(False))"
   ]
  },
  {
   "cell_type": "code",
   "execution_count": null,
   "metadata": {},
   "outputs": [],
   "source": [
    "print(type(true))"
   ]
  },
  {
   "cell_type": "markdown",
   "metadata": {},
   "source": [
    "Boolean ifadeler, sonucu boolean değer olan ve boolean değer olarak değerlendirilen deyimlerdir. \n",
    "\n",
    "\"==\" gibi koşullu durumlar, girdiğimiz bilgilerin doğruluğunu kontrol edip sonuçlar verirler. Verdikleri sonuçlar ise bool tipindedir."
   ]
  },
  {
   "cell_type": "code",
   "execution_count": null,
   "metadata": {},
   "outputs": [],
   "source": [
    "print(type(1 == 2))"
   ]
  },
  {
   "cell_type": "code",
   "execution_count": null,
   "metadata": {},
   "outputs": [],
   "source": [
    "print(5 == 5)"
   ]
  },
  {
   "cell_type": "code",
   "execution_count": null,
   "metadata": {},
   "outputs": [],
   "source": [
    "print(5 != 6)"
   ]
  },
  {
   "cell_type": "markdown",
   "metadata": {},
   "source": [
    "İlk cümlede, karşılaştırılan iki sayı birbirine eşittir, bu yüzden ifade True sonucunu üretir; ikinci cümlede ise 5, 6'ya eşit değildir, bu sebeple False sonucu elde edilir."
   ]
  },
  {
   "cell_type": "markdown",
   "metadata": {},
   "source": [
    "Python'da 1 rakamı boolean olarak True değeriyle eşdeğerdir. Aynı şekilde de 0 rakamı False boolean değeriyle eşdeğer kabul edilir."
   ]
  },
  {
   "cell_type": "code",
   "execution_count": null,
   "metadata": {},
   "outputs": [],
   "source": [
    "print(1 == True)"
   ]
  },
  {
   "cell_type": "code",
   "execution_count": null,
   "metadata": {},
   "outputs": [],
   "source": [
    "print(0 == False)"
   ]
  },
  {
   "cell_type": "code",
   "execution_count": null,
   "metadata": {
    "scrolled": true
   },
   "outputs": [],
   "source": [
    "x, y = 3, 2\n",
    "\n",
    "print(x >= y)             # Eğer x, y'ye eşit ise True değeri üretir."
   ]
  },
  {
   "cell_type": "code",
   "execution_count": null,
   "metadata": {
    "scrolled": true
   },
   "outputs": [],
   "source": [
    "x != y               # x, y'ye eşit değil ise True değeri üretir."
   ]
  },
  {
   "cell_type": "code",
   "execution_count": null,
   "metadata": {},
   "outputs": [],
   "source": [
    "x > y                # x, y'den büyük ise True değeri üretir."
   ]
  },
  {
   "cell_type": "code",
   "execution_count": null,
   "metadata": {},
   "outputs": [],
   "source": [
    "x < y                # x, y'den küçük iseTrue değeri üretir."
   ]
  },
  {
   "cell_type": "code",
   "execution_count": null,
   "metadata": {},
   "outputs": [],
   "source": [
    "x >= y               # x, y'den büyük veya eşit ise True değeri üretir."
   ]
  },
  {
   "cell_type": "code",
   "execution_count": null,
   "metadata": {},
   "outputs": [],
   "source": [
    "x <= y               # x, y'den küçük veya eşit ise True değeri üretir."
   ]
  },
  {
   "cell_type": "markdown",
   "metadata": {},
   "source": [
    "Dolayısıyla aslında if-elif-else koşullu ifadelerinin algoritmalarında yapı şu şekildedir:\n",
    "\n",
    "if \"koşullu bir ifade\":\n",
    "1. İfadesinde koşula bakılır. \n",
    "2. Koşul doğruysa \"koşullu bir ifade\", True olarak kabul edilir. \n",
    "3. Şartın True boolean değerine geldiğini gören program o şartın sonucunu gerçekleştirmek için o if koşulunun içine girer.\n",
    "4. Koşul yanlışsa \"koşullu bir ifade\", False olarak kabul edilir. \n",
    "5. Şartın False boolean değerine geldiğini gören program o şartın sonucunu gerçekleştirmemek için o if koşulunun içine girmez, devam eder.\n",
    "6. Aşağıdaki muhtemel elif ve else ifadelerinin yanındaki koşullar için birinci aşamadan tekrar kontrol başlar.\n"
   ]
  },
  {
   "cell_type": "code",
   "execution_count": null,
   "metadata": {},
   "outputs": [],
   "source": [
    "if 1 == 2:                       # 1 == 2 ifadesi kontrol -> yanlış olduğuna karar verildi -> \n",
    "    print(\"1, 2'ye eşittir.\")    # bu şart satırına geçilmeden devam edildi\n",
    "    \n",
    "elif 1 == 1:                    # 1 == 1 ifadesi kontrol -> doğru olduğuna karar verildi -> \n",
    "    print(\"1, 1'e eşittir.\")    # bu şart satırına geçildi ve içinde verilen görev gerçekleştirildi."
   ]
  },
  {
   "cell_type": "markdown",
   "metadata": {},
   "source": [
    "Takip eden girintili cümlelere yani iç içe if, elif veya else kullanımına blok adı verilir. İlk girintisiz koşullu ifade bloğun sonunu belirler."
   ]
  },
  {
   "cell_type": "code",
   "execution_count": null,
   "metadata": {},
   "outputs": [],
   "source": [
    "yas = int(input(\"Lütfen yaşınızı giriniz: \"))\n",
    "dogum_tarihi = str(input(\"Lütfen doğum tarihinizi gg.aa şeklinde giriniz: \"))\n",
    "\n",
    "bugunun_tarihi = \"21.09\"\n",
    "\n",
    "if yas < 18:               # yas<18 boolean olarak True ya eşit değilse bu kod bloğu yok sayılır, eşitse bu bloğa girilir\n",
    "    print(\"Maalesef ehliyet alamıyorsunuz!\")                      \n",
    "    print(\"Lütfen bir sonraki sene tekrar deneyiniz!\")                 \n",
    "           \n",
    "else:                                                   \n",
    "    print(\"Ehliyet alabilirsiniz!\")\n",
    "\n",
    "if dogum_tarihi == bugunun_tarihi:                    \n",
    "        print(\"Doğum gününüz kutlu olsun!\") "
   ]
  },
  {
   "cell_type": "markdown",
   "metadata": {},
   "source": [
    "# İç İçe Koşullu İfadeler ve Mantık Operatörleri\n"
   ]
  },
  {
   "cell_type": "markdown",
   "metadata": {},
   "source": [
    "Python'da tek if satırında birdan fazla koşulu kontrol etmek için mantık operatörleri kullanılır. Üç adet mantıksal operatör vardır: and (ve), or (veya) ve not (değil). Bu basit Boolean deyimlerini kullanarak, daha karmaşık Boolean ifadeleri üretebiliriz. Bu operatörlerin anlamları, parantez içinde yazılmış olan Türkçe anlamlarıyla benzerdir. Örneğin, x > 0 ve x < 10 ifadesi, \"x ifadesi 0’dan büyük ve aynı zamanda x 10’dan küçük olduğunda\" doğrudur."
   ]
  },
  {
   "cell_type": "markdown",
   "metadata": {},
   "source": [
    "Aşağıdaki tabloda __and__ ve __or__ operatörlerinin doğruluk tablosu verilmiştir:"
   ]
  },
  {
   "cell_type": "markdown",
   "metadata": {},
   "source": [
    "### or Operatörü"
   ]
  },
  {
   "cell_type": "markdown",
   "metadata": {},
   "source": [
    "<center><img src = \"https://raw.githubusercontent.com/ituitis-averbek18/images/master/week2_table3.png\", width = 450, height = 500></center>"
   ]
  },
  {
   "cell_type": "markdown",
   "metadata": {},
   "source": [
    "### and Operatörü"
   ]
  },
  {
   "cell_type": "markdown",
   "metadata": {},
   "source": [
    "<center><img src = \"https://raw.githubusercontent.com/ituitis-averbek18/images/master/week2_table4.png\", width = 450, height = 500></center>"
   ]
  },
  {
   "cell_type": "code",
   "execution_count": null,
   "metadata": {},
   "outputs": [],
   "source": [
    "x = int(input(\"Lütfen bir sayı giriniz: \"))\n",
    "\n",
    "if x > 0 and x < 10:\n",
    "    print(\"x sayısı 0 ile 10 arasındadır.\")\n",
    "elif x < 0 or x > 10:\n",
    "    print(\"x sayısı 10 dan büyük VEYA 0 dan küçüktür.\")"
   ]
  },
  {
   "cell_type": "code",
   "execution_count": null,
   "metadata": {},
   "outputs": [],
   "source": [
    "yas = int(input(\"Lütfen bir sayı giriniz: \"))\n",
    "\n",
    "if yas < 0:\n",
    "    print(\"Henüz doğmadınız\")\n",
    "elif yas >= 0 and yas < 18:\n",
    "    print(\"Üzgünüm, henüz ehliyet alamazsınız\")\n",
    "else:\n",
    "    print(\"Ehliyet alabilirsiniz!\")"
   ]
  },
  {
   "cell_type": "markdown",
   "metadata": {},
   "source": [
    "Daha karmaşık ifadeler de yazabilir ve önceliklerine göre parantezlere alabiliriz:"
   ]
  },
  {
   "cell_type": "code",
   "execution_count": null,
   "metadata": {},
   "outputs": [],
   "source": [
    "x = int(input(\"Lütfen bir sayı giriniz: \"))\n",
    "istenmeyen_sayi = int(input(\"Lütfen istenmeyen bir sayı giriniz: \"))\n",
    "    \n",
    "if (x > 0 and x < 10) and (not (x == istenmeyen_sayi)):\n",
    "    print(\"x, 0 ile 10 arasındadır ve\", istenmeyen_sayi, \"ile x eşit değildir.\")"
   ]
  },
  {
   "cell_type": "markdown",
   "metadata": {},
   "source": [
    "#### UYARI: not operatörü önüne geldiği her şeyin doğruluk değerini tersine çevirmekle görevlidir."
   ]
  },
  {
   "cell_type": "code",
   "execution_count": null,
   "metadata": {},
   "outputs": [],
   "source": [
    "not True"
   ]
  },
  {
   "cell_type": "code",
   "execution_count": null,
   "metadata": {},
   "outputs": [],
   "source": [
    "not 0"
   ]
  },
  {
   "cell_type": "markdown",
   "metadata": {},
   "source": [
    "# Matematiksel Operatörler"
   ]
  },
  {
   "cell_type": "markdown",
   "metadata": {},
   "source": [
    "Python'da kullanılabilen matematiksel operatörler ve karşılıkları aşağıdaki tabloda verilmiştir.\n"
   ]
  },
  {
   "cell_type": "markdown",
   "metadata": {},
   "source": [
    "<center><img src = \"https://raw.githubusercontent.com/ituitis-averbek18/images/master/week2_table2.png\", width = 650, height = 750></center>"
   ]
  },
  {
   "cell_type": "code",
   "execution_count": null,
   "metadata": {},
   "outputs": [],
   "source": [
    "# Matematiksel Operatör Örnekleri\n",
    "a = 9\n",
    "b = 4\n",
    "\n",
    "ekle = a + b # Toplama işlemi\n",
    "\n",
    "cikar = a - b # Çıkarma işlemi \n",
    "\n",
    "carp = a * b # Çarpma İşlemi\n",
    "\n",
    "bol1 = a / b # Bölme işlemi\n",
    "\n",
    "bol2 = a // b # İnteger bölmesi işlemi \n",
    "\n",
    "mod = a % b # mod alma işlemi\n",
    "\n",
    "ussu = a ** b \n",
    "\n",
    "print(ekle) \n",
    "print(cikar) \n",
    "print(carp) \n",
    "print(bol1) \n",
    "print(bol2) \n",
    "print(mod)\n",
    "print(ussu)"
   ]
  },
  {
   "cell_type": "code",
   "execution_count": null,
   "metadata": {},
   "outputs": [],
   "source": []
  }
 ],
 "metadata": {
  "kernelspec": {
   "display_name": "Python 3",
   "language": "python",
   "name": "python3"
  },
  "language_info": {
   "codemirror_mode": {
    "name": "ipython",
    "version": 3
   },
   "file_extension": ".py",
   "mimetype": "text/x-python",
   "name": "python",
   "nbconvert_exporter": "python",
   "pygments_lexer": "ipython3",
   "version": "3.8.3"
  }
 },
 "nbformat": 4,
 "nbformat_minor": 4
}
