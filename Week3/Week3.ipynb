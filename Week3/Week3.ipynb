{
 "cells": [
  {
   "cell_type": "markdown",
   "metadata": {},
   "source": [
    "# Döngüler"
   ]
  },
  {
   "cell_type": "markdown",
   "metadata": {},
   "source": [
    "Python'da if-elif-else gibi ifadeleri kullanırken program, yapmasını istediğimiz görevi bir kez yaptıktan sonra sonlanır. Aynı şekilde input-print fonksiyonlarını kullanırken de almak istediğimiz her girdi için ayrı bir input fonksiyonu, yaptığımız her ayrı işlemin çıktısını görmek için de ayrı bir print fonksiyonu kullanılır. \n",
    "\n",
    "Örneğin verilen 4 ayrı sayının toplamı istendiğinde Python'da aşağıdaki gibi bir kod kullanılabilir:"
   ]
  },
  {
   "cell_type": "code",
   "execution_count": null,
   "metadata": {},
   "outputs": [],
   "source": [
    "birinci_sayi = int(input(\"Lütfen 1. sayıyı giriniz: \"))\n",
    "ikinci_sayi = int(input(\"Lütfen 2. sayıyı giriniz: \"))\n",
    "ucuncu_sayi = int(input(\"Lütfen 3. sayıyı giriniz: \"))\n",
    "dorduncu_sayi = int(input(\"Lütfen 4. sayıyı giriniz: \"))\n",
    "\n",
    "print(\"Sayıların toplamı: \", birinci_sayi + ikinci_sayi + ucuncu_sayi + dorduncu_sayi)"
   ]
  },
  {
   "cell_type": "markdown",
   "metadata": {},
   "source": [
    "Buradaki örnekte yapılacak işlem sayısı belli ve azdır. Ancak yapılacak işlem sayısı arttıkça (örneğin 100 sayı verilip toplamı istendiğinde) aynı işlemleri bu şekilde yapmak programcı için vakit alır.\n",
    "\n",
    "\n",
    "Veya örneğin kullanıcıdan tuttuğumuz sayıyı tahmin etmesini isteyen bir program yazalım:\n"
   ]
  },
  {
   "cell_type": "code",
   "execution_count": null,
   "metadata": {},
   "outputs": [],
   "source": [
    "tutulan_sayi = 5\n",
    "tahmin = int(input(\"Lütfen 1 ile 10 arasında bir sayı giriniz: \"))\n",
    "\n",
    "\n",
    "if tahmin == tutulan_sayi:\n",
    "    print(\"Tebrikler, doğru tahmin!\")\n",
    "else:\n",
    "    print(\"Üzgünüz, tekrar deneyin!\")"
   ]
  },
  {
   "cell_type": "markdown",
   "metadata": {},
   "source": [
    "Burada ise kullanıcı doğru tahmini girerse program tebrik mesajı verecek fakat yanlış girdiğinde ikinci bir tahmin hakkı olmayacaktır. Program tekrar kullanılmak istenirse baştan başlatılmalıdır. Halbuki program tahmin sonucu doğru gelene kadar çalışabilse baştan başlatmaya gerek kalmaz. \n",
    "\n",
    "Örneklerde gördüldüğü gibi şimdiye kadar yazdığımız programlar bir defa çalışıyor ve sona eriyordu. Ancak biz çoğu zaman programlarımızın belli koşullarda çalışmasını sürekli devam ettirmesini ve işlemlerini tekrar etmesini isteriz.\n",
    "\n",
    "#### Bu gibi belirli bir şarta kadar (sayı veya durum) çalışması istenen programlar yazmak için Python'da döngüler kullanılır.\n"
   ]
  },
  {
   "cell_type": "markdown",
   "metadata": {},
   "source": [
    "# while Döngüsü"
   ]
  },
  {
   "cell_type": "markdown",
   "metadata": {},
   "source": [
    "![title](https://raw.githubusercontent.com/ituitis-averbek18/images/master/week3_whilechart.png)\n",
    "\n",
    "<strong><center>while kullanım algoritması</center></strong>"
   ]
  },
  {
   "cell_type": "markdown",
   "metadata": {},
   "source": [
    "While döngüsü, içine aldığı kod bölümünün tekrarlanmasını \n",
    "sağlar. While döngüsünde kod istenen şart sağlandığı sürece döner. \n",
    "While'ın yapısı:"
   ]
  },
  {
   "cell_type": "code",
   "execution_count": null,
   "metadata": {},
   "outputs": [],
   "source": [
    "#while (koşul):\n",
    "      #işlem1\n",
    "      #İşlem2\n",
    "      #..."
   ]
  },
  {
   "cell_type": "markdown",
   "metadata": {},
   "source": [
    "  şeklindedir. Basit bir örnek olarak:"
   ]
  },
  {
   "cell_type": "code",
   "execution_count": null,
   "metadata": {},
   "outputs": [],
   "source": [
    "n = 1\n",
    "toplam = 0\n",
    "\n",
    "while n < 5:  #döngü; n'in 1, 2, 3 ve 4 değerleri için döner.\n",
    "    toplam += n\n",
    "    n += 1\n",
    "    \n",
    "print(\"1'den 5'e kadar olan rakamların toplamı: \"+str(toplam))"
   ]
  },
  {
   "cell_type": "markdown",
   "metadata": {},
   "source": [
    " Bu örnekte döngünün şartı n değişkeninin 5'ten küçük olmasıdır. İlk olarak döngü şartının sağlanıp sağlanmadığını kontrol edilir ve şart sağlanıyorsa döngünün içine girilir, döngüde n değişkeni önce toplam değişkeniyle toplanır sonrasında da değeri 1 arttırılır ardından başa dönülür ve şart sağlanmayana kadar bu şekilde devam eder."
   ]
  },
  {
   "cell_type": "markdown",
   "metadata": {},
   "source": [
    "While döngülerinde sağlanması istenen şarta ve şartı sağlayan değişkenin değerinin değişip değişmediğine dikkat edilmelidir. Bunlardaki bir yanlışlık yüzünden sonsuz döngüye girilebilir veya döngü hiç \n",
    "çalışmayabilir: "
   ]
  },
  {
   "cell_type": "code",
   "execution_count": null,
   "metadata": {},
   "outputs": [],
   "source": [
    "n = 0\n",
    "\n",
    "while n < 5:\n",
    "    print(n)"
   ]
  },
  {
   "cell_type": "code",
   "execution_count": null,
   "metadata": {},
   "outputs": [],
   "source": [
    "tutulan_sayi = 5\n",
    "tahmin = int(input(\"Lütfen 1 ile 10 arasında bir sayı giriniz: \"))\n",
    "\n",
    "while tahmin != tutulan_sayi:\n",
    "    print(\"Üzgünüz, tekrar deneyin!\") \n",
    "    tahmin = int(input(\"Lütfen 1 ile 10 arasında bir sayı giriniz: \"))\n",
    "      \n",
    "print(\"Tebrikler, doğru tahmin!\")"
   ]
  },
  {
   "cell_type": "markdown",
   "metadata": {},
   "source": [
    "#  for Döngüsü"
   ]
  },
  {
   "cell_type": "markdown",
   "metadata": {},
   "source": [
    "![title](https://raw.githubusercontent.com/ituitis-averbek18/images/master/week3_forchart.png)\n",
    "\n",
    "<strong><center>for kullanım algoritması</center></strong>"
   ]
  },
  {
   "cell_type": "markdown",
   "metadata": {},
   "source": [
    "### in operatörü"
   ]
  },
  {
   "cell_type": "markdown",
   "metadata": {},
   "source": [
    "Pythondaki in operatörü, bir elemanın başka bir listede, demette veya karakter dizilerinde bulunup bulunmadığını kontrol eder ve sonuç olarak Boolean veri tipinde bir değer döndürür:"
   ]
  },
  {
   "cell_type": "code",
   "execution_count": 5,
   "metadata": {},
   "outputs": [
    {
     "name": "stdout",
     "output_type": "stream",
     "text": [
      "True\n",
      "True\n"
     ]
    }
   ],
   "source": [
    "print(\"o\" in \"hello\")\n",
    "print(5 in [1,3,5])"
   ]
  },
  {
   "cell_type": "markdown",
   "metadata": {},
   "source": [
    "For döngüsü de while döngüsü gibi içindeki kodu döndürür ancak while döngüsünden farkı belli bir şartı sağladığı sürece dönmek yerine listelerin, demetlerin, karakter dizilerinin ve hatta sözlüklerin üzerinde dolaşmamızı sağlar. Yapısı şu şekildedir:"
   ]
  },
  {
   "cell_type": "code",
   "execution_count": null,
   "metadata": {},
   "outputs": [],
   "source": [
    "club = \"ITUACM\"\n",
    "\n",
    "for harf in club:\n",
    "    print(harf)"
   ]
  },
  {
   "cell_type": "code",
   "execution_count": null,
   "metadata": {},
   "outputs": [],
   "source": [
    "liste = [4,3,2,1]\n",
    " \n",
    "for eleman in liste:\n",
    "    print(\"Eleman\",eleman)"
   ]
  },
  {
   "cell_type": "code",
   "execution_count": null,
   "metadata": {},
   "outputs": [],
   "source": [
    "meyveler = [\"elma\", \"armut\", \"kiraz\"]\n",
    "for meyve in meyveler:\n",
    "    print(meyve)"
   ]
  },
  {
   "cell_type": "markdown",
   "metadata": {},
   "source": [
    "### range() fonksiyonu"
   ]
  },
  {
   "cell_type": "markdown",
   "metadata": {},
   "source": [
    "range() fonksiyonu; başlangıç, bitiş ve opsiyonel olarak aralığı arttırma değeri alarak bir sayı dizisi oluşturur. Örneğin:"
   ]
  },
  {
   "cell_type": "code",
   "execution_count": 7,
   "metadata": {},
   "outputs": [
    {
     "name": "stdout",
     "output_type": "stream",
     "text": [
      "1\n",
      "2\n",
      "3\n",
      "4\n",
      "5\n"
     ]
    }
   ],
   "source": [
    "for i in range(1,6):\n",
    "    print(i)"
   ]
  },
  {
   "cell_type": "code",
   "execution_count": null,
   "metadata": {},
   "outputs": [],
   "source": [
    "for sayi in range(1,9): # kod 1,2,3,4,5,6,7,8 değerleri için dönecek\n",
    "    print(\"* \" * sayi)"
   ]
  },
  {
   "cell_type": "code",
   "execution_count": null,
   "metadata": {
    "scrolled": true
   },
   "outputs": [],
   "source": [
    "for x in range(0, 50, 10):   # 0'dan 50'ye kadar 10'ar artarak giden bir dizi oluşturacak.\n",
    "    print(x)                 "
   ]
  },
  {
   "cell_type": "markdown",
   "metadata": {},
   "source": [
    "## break ve continue "
   ]
  },
  {
   "cell_type": "markdown",
   "metadata": {},
   "source": [
    "### a) break"
   ]
  },
  {
   "cell_type": "markdown",
   "metadata": {},
   "source": [
    "<font color=blue>break</font> ifadesi döngülerde programcılar tarafından en çok kullanılan ifadedir. İşlevini tanımlamak gerekirse:\n",
    "\n",
    "Döngü herhangi bir yerde ve herhangi bir zamanda <font color=blue>break</font> ifadesiyle karşılaştığı zaman\n",
    "çalışmasını bir anda durdurur. Böylelikle döngü hiçbir koşula bağlı kalmadan sonlanmış olur.\n",
    "\n",
    "<font color=blue>break</font> ifadesi sadece ve sadece içinde bulunduğu döngüyü sonlandırır. Eğer iç içe döngüler bulunuyorsa ve en içteki döngüde <font color=blue>break</font> kullanılmışsa sadece içteki döngü sona erer. Örneklerle <font color=blue>break</font> ifadesini anlamaya çalışalım."
   ]
  },
  {
   "cell_type": "code",
   "execution_count": null,
   "metadata": {},
   "outputs": [],
   "source": [
    "fiyat = 40            # alınacak ürünün fiyatı 40 \n",
    "cuzdan = 30           # cüzdanımızda 30 var\n",
    "extra = 5             # extra olarak 5 birim paraya kadar çıkabiliriz \n",
    "\n",
    "while cuzdan < fiyat: # cüzdanımızdaki para alınnacak ürünün fiyatından küçük olduğu sürece cüzdanımıza para lazım\n",
    "    \n",
    "    if extra > 0:     # eğer ekleyebileceğimiz para tükenmediyse \n",
    "        extra -= 1    # ekleyeceğimiz kadar parayı extradan alıp\n",
    "        cuzdan += 1   # cüzdanımıza ekliyoruz\n",
    "        \n",
    "    else:             # eğer extra paramız kalmadıysa \n",
    "        print(\"Yeterli bakiyeniz bulunmamaktadır!\")\n",
    "        break         # döngüden çıkıyoruz\n",
    "        \n",
    "        \n",
    "if cuzdan == fiyat:   # döngü bittikten sonra cüzdanımızda yeterli para varsa ürünü alabiliyoruz\n",
    "    print(\"Güle güle kullanın!\")"
   ]
  },
  {
   "cell_type": "markdown",
   "metadata": {},
   "source": [
    "Burada görüldüğü gibi while programımız cüzdanda yeterli para olmadığı sürece parayı arttırmak için çalışır. Eğer cüzdandaki para fiyata eşitlenirse while satırındaki şart sağlanır ve döngüden kendiliğinden çıkar. Ancak ekstra olarak yeterli birikimimiz kalmadığında break satırına ulaşır ve döngünün içindeyken bitirmiş oluruz.\n"
   ]
  },
  {
   "cell_type": "markdown",
   "metadata": {},
   "source": [
    "### b) continue"
   ]
  },
  {
   "cell_type": "markdown",
   "metadata": {},
   "source": [
    "<font color=blue>continue</font> ifadesi break‘e göre biraz daha az kullanılan bir ifadedir. İşlevini tanımlamak gerekirse:\n",
    "\n",
    "Döngü herhangi bir yerde ve herhangi bir zamanda <font color=blue>continue</font> ifadesiyle karşılaştığı zaman geri kalan işlemlerini yapmadan direk bloğunun başına döner. <font color=blue>continue</font> ifadesinin görevini daha iyi kavrayabilmek için aşağıdaki örneği inceleyebiliriz:"
   ]
  },
  {
   "cell_type": "code",
   "execution_count": null,
   "metadata": {},
   "outputs": [],
   "source": [
    "toplam = 0\n",
    "\n",
    "while True:                                              # bu döngü dışarıdan bir etkiyle durdurulmadığı sürece çalışır\n",
    "    x = int(input(\"Bir sayı girin (bitirmek için -1): \"))\n",
    "    \n",
    "    if x == -1:                                          # durdurmak için -1 girmemiz break komutunu çalıştırır\n",
    "        break\n",
    "        \n",
    "    if x < 0 or x > 100:                      # istediğimiz aralıkta sayı gelmediyse \n",
    "        print(\"0-100 arası olmalı.\")          # istediğimiz şartı belirtiriz\n",
    "        continue                              # continue komutunu okuyan python tekrardan while kısmındaki şarta döner   \n",
    "        \n",
    "    toplam += x                               # eğer continue da takılmadıysa buraya gelip girilen sayıyı ekler\n",
    "\n",
    "print( \"Toplam:\", toplam)"
   ]
  },
  {
   "cell_type": "markdown",
   "metadata": {},
   "source": [
    "## Python'da Output Düzeni ve Formatlama"
   ]
  },
  {
   "cell_type": "markdown",
   "metadata": {},
   "source": [
    "Python'da <font color=green>print()</font> fonksiyonu programın output vermesini sağlar. <font color=green>print()</font>, bu programlama dilinde gömülü (built-in) bir fonksiyon olarak gelir. Python'da bu tarz fonksiyonların anlaşılması için <font color=green>help()</font> fonksiyonu vardır."
   ]
  },
  {
   "cell_type": "code",
   "execution_count": null,
   "metadata": {
    "scrolled": true
   },
   "outputs": [],
   "source": [
    "help(print)"
   ]
  },
  {
   "cell_type": "markdown",
   "metadata": {},
   "source": [
    "Burada bizim için önemli olan <font color=blue>_print(value, ..., sep=' ', end='\\n', file=sys.stdout, flush=False)_</font> satırıdır. Burada görülen;\n",
    "1. <font color=red>sep=' '</font> ifadesi, <font color=green>print()</font>'in içine yazılan çoklu değerlerin arasına default olarak boşluk koyduğunu gösterir.\n",
    "2. <font color=red>end='\\n'</font> ifadesi, <font color=green>print()</font>'in yazdırma işi her sonlandığında bir satır alta geçtiğini gösterir."
   ]
  },
  {
   "cell_type": "markdown",
   "metadata": {},
   "source": [
    "### 1. <font color=red>sep=''</font> ifadesi"
   ]
  },
  {
   "cell_type": "markdown",
   "metadata": {},
   "source": [
    "<font color=green>print()</font>'in içine yazdırılacak çoklu elemanların arasında yer alacak ifadeleri belirler. Tırnak işaretlerinin arasına istenilen her şey koyulabilir. Default olarak bir adet space karakteri içerir."
   ]
  },
  {
   "cell_type": "code",
   "execution_count": null,
   "metadata": {
    "scrolled": true
   },
   "outputs": [],
   "source": [
    "print(1, 2, 3, 4, 5, 6, 7, sep=\" :) \")"
   ]
  },
  {
   "cell_type": "markdown",
   "metadata": {},
   "source": [
    "### 2. <font color=red>end=''</font> ifadesi"
   ]
  },
  {
   "cell_type": "markdown",
   "metadata": {},
   "source": [
    "<font color=green>print()</font>'in yazdırma işi bittikten sonraki davranışını belirler. Tırnak işaretlerinin arasına istenilen her şey koyulabilir. Default olarak newline (<font color=red>'\\n'</font>) işareti vardır, yani bir alt satıra geçişi sağlar."
   ]
  },
  {
   "cell_type": "code",
   "execution_count": null,
   "metadata": {},
   "outputs": [],
   "source": [
    "print(1, 2, 3, 4, 5, 6, 7, end=\" :) \")"
   ]
  },
  {
   "cell_type": "markdown",
   "metadata": {},
   "source": [
    "NOT: <font color=red>'\\n'</font> = new line, yani Python'da yeni satır bırakma işaretidir. Nasıl çalıştığını anlamak için aşağıdaki örneği inceleyelim."
   ]
  },
  {
   "cell_type": "code",
   "execution_count": 4,
   "metadata": {},
   "outputs": [
    {
     "name": "stdout",
     "output_type": "stream",
     "text": [
      "\n",
      " Bu ikinci satır olmalı \n",
      " \n",
      " Bu da dördüncü satır olmalı\n"
     ]
    }
   ],
   "source": [
    "print(\"\\n\", \"İkinci satır\", '\\n', \"\\n\", \"Dördüncü satır\")"
   ]
  },
  {
   "cell_type": "markdown",
   "metadata": {},
   "source": [
    "Örnekte görüldüğü gibi <font color=green>print()</font>:\n",
    "1. İlk <font color=blue>'\\n'</font> ifadesini gördüğünde yazdırma kısmında bir satır sonraya geçer. \n",
    "2. İkinci değer olarak <font color=blue>\"İkinci satır\"</font> ifadesi şuan bulunulan kısımdan, yani ikinci satırın başından yazdırılır.\n",
    "3. Üçüncü değer olarak <font color=blue>'\\n'</font> ifadesini gören <font color=green>print()</font>, bulunulan kısımdan bir alt satıra, yani <font color=blue>\"İkinci satır\"</font> ifadesinin sonundan üçüncü satırın başına geçer.\n",
    "4. Üçüncü satırın başında bulunurken değer olarak <font color=blue>'\\n'</font> ifadesini gören <font color=green>print()</font>, bulunulan kısımdan bir alt satıra, yani üçüncü satırın başından dördüncü satırın başına geçer.\n",
    "5. Beşinci ve son değer olarak <font color=blue>\"Dördüncü satır\"</font> ifadesini gören print, bulunulan yerden bu ifadeyi yazdırır, yani dördüncü satırın başından itibaren bu ifadeyi yazdırır."
   ]
  },
  {
   "cell_type": "markdown",
   "metadata": {},
   "source": [
    "## Formatlama"
   ]
  },
  {
   "cell_type": "markdown",
   "metadata": {},
   "source": [
    "Programlamada bazı yerlerde bir stringin içinde daha önceden tanımlı string, float, int vs. değerleri yerleştirmek isteyebiliriz. Böyle durumlar için Pythonda <font color=purple>format()</font> fonksiyonu bulunmaktadır. Örneğin, programımızda 2 tane tamsayı değerimiz var ve biz bunları ve toplamlarını bir string içinde ekrana bastırmak istiyoruz. Bunun için <font color=purple>format()</font> fonksiyonunu kullanabiliriz."
   ]
  },
  {
   "cell_type": "code",
   "execution_count": null,
   "metadata": {
    "scrolled": true
   },
   "outputs": [],
   "source": [
    "ilk_sayi = int(input(\"Lütfen bir sayı giriniz: \"))\n",
    "ikinci_sayi = int(input(\"Lütfen ikinci sayıyı giriniz: \"))\n",
    "\n",
    "print(\"Girdiğiniz ilk sayı = {} {}İkinci sayı = {} {}Toplam = {}\".format(ilk_sayi,\"\\n\", ikinci_sayi,\n",
    "                                                                          \"\\n\", ilk_sayi + ikinci_sayi))"
   ]
  },
  {
   "cell_type": "markdown",
   "metadata": {},
   "source": [
    "Burada görüldüğü üzere print fonksiyonuyla bastırılacak herhangi bir stringin içinde, sırayla konulan süslü parantezlerin (<font color=purple>{}</font>) içine sırayla yazılacak olan değerler, <font color=purple>string.format(değerler)</font> şeklinde sırayla yazılır, virgülle ayrılır."
   ]
  }
 ],
 "metadata": {
  "kernelspec": {
   "display_name": "Python 3",
   "language": "python",
   "name": "python3"
  },
  "language_info": {
   "codemirror_mode": {
    "name": "ipython",
    "version": 3
   },
   "file_extension": ".py",
   "mimetype": "text/x-python",
   "name": "python",
   "nbconvert_exporter": "python",
   "pygments_lexer": "ipython3",
   "version": "3.8.6"
  }
 },
 "nbformat": 4,
 "nbformat_minor": 4
}
